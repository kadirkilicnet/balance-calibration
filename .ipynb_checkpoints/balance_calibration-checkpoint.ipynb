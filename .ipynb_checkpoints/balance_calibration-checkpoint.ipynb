{
 "cells": [
  {
   "cell_type": "markdown",
   "metadata": {},
   "source": [
    "# Balance Calibration Experiment"
   ]
  },
  {
   "cell_type": "markdown",
   "metadata": {},
   "source": [
    "###### Objectives of the Experiment: "
   ]
  },
  {
   "cell_type": "markdown",
   "metadata": {},
   "source": [
    "Understanding the working principle of balance mechanism and strain gauges,\n",
    "experimenting the hysteresis effect and method of least squares."
   ]
  },
  {
   "cell_type": "markdown",
   "metadata": {},
   "source": [
    "###### Experimental Procedure:"
   ]
  },
  {
   "cell_type": "markdown",
   "metadata": {},
   "source": [
    "Known masses are used to calibrate the balance mechanism. Fundamentally, the balance mechanism is a device to\n",
    "calculate force by computing momentum. The signal box converts force data to voltage output with the help of\n",
    "strain gauges. After hanging the known masses in ascending order, they are removed in reverse order and thus\n",
    "the hysteresis effect can be seen. Using the method of least squares, calibration equation is calculated and\n",
    "therefore the unknown mass can be found. Correlation coefficient is obtained."
   ]
  },
  {
   "cell_type": "code",
   "execution_count": 1,
   "metadata": {},
   "outputs": [],
   "source": [
    "import pandas as pd\n",
    "import matplotlib.pyplot as plt\n",
    "import numpy as np\n",
    "import math"
   ]
  },
  {
   "cell_type": "markdown",
   "metadata": {},
   "source": [
    "### Reading the Experiment Data"
   ]
  },
  {
   "cell_type": "code",
   "execution_count": 2,
   "metadata": {
    "scrolled": true
   },
   "outputs": [
    {
     "data": {
      "text/html": [
       "<div>\n",
       "<style scoped>\n",
       "    .dataframe tbody tr th:only-of-type {\n",
       "        vertical-align: middle;\n",
       "    }\n",
       "\n",
       "    .dataframe tbody tr th {\n",
       "        vertical-align: top;\n",
       "    }\n",
       "\n",
       "    .dataframe thead th {\n",
       "        text-align: right;\n",
       "    }\n",
       "</style>\n",
       "<table border=\"1\" class=\"dataframe\">\n",
       "  <thead>\n",
       "    <tr style=\"text-align: right;\">\n",
       "      <th></th>\n",
       "      <th>attempt</th>\n",
       "      <th>mass_g</th>\n",
       "      <th>voltage_mv</th>\n",
       "    </tr>\n",
       "  </thead>\n",
       "  <tbody>\n",
       "    <tr>\n",
       "      <td>0</td>\n",
       "      <td>1</td>\n",
       "      <td>1</td>\n",
       "      <td>4.927688</td>\n",
       "    </tr>\n",
       "    <tr>\n",
       "      <td>1</td>\n",
       "      <td>2</td>\n",
       "      <td>5</td>\n",
       "      <td>24.574838</td>\n",
       "    </tr>\n",
       "    <tr>\n",
       "      <td>2</td>\n",
       "      <td>3</td>\n",
       "      <td>20</td>\n",
       "      <td>98.632956</td>\n",
       "    </tr>\n",
       "    <tr>\n",
       "      <td>3</td>\n",
       "      <td>4</td>\n",
       "      <td>22</td>\n",
       "      <td>108.397868</td>\n",
       "    </tr>\n",
       "    <tr>\n",
       "      <td>4</td>\n",
       "      <td>5</td>\n",
       "      <td>25</td>\n",
       "      <td>124.027213</td>\n",
       "    </tr>\n",
       "    <tr>\n",
       "      <td>5</td>\n",
       "      <td>6</td>\n",
       "      <td>50</td>\n",
       "      <td>247.811166</td>\n",
       "    </tr>\n",
       "    <tr>\n",
       "      <td>6</td>\n",
       "      <td>7</td>\n",
       "      <td>52</td>\n",
       "      <td>257.551185</td>\n",
       "    </tr>\n",
       "    <tr>\n",
       "      <td>7</td>\n",
       "      <td>8</td>\n",
       "      <td>55</td>\n",
       "      <td>271.610963</td>\n",
       "    </tr>\n",
       "    <tr>\n",
       "      <td>8</td>\n",
       "      <td>9</td>\n",
       "      <td>70</td>\n",
       "      <td>344.767244</td>\n",
       "    </tr>\n",
       "    <tr>\n",
       "      <td>9</td>\n",
       "      <td>10</td>\n",
       "      <td>100</td>\n",
       "      <td>494.131746</td>\n",
       "    </tr>\n",
       "    <tr>\n",
       "      <td>10</td>\n",
       "      <td>11</td>\n",
       "      <td>101</td>\n",
       "      <td>501.433668</td>\n",
       "    </tr>\n",
       "    <tr>\n",
       "      <td>11</td>\n",
       "      <td>12</td>\n",
       "      <td>102</td>\n",
       "      <td>508.016642</td>\n",
       "    </tr>\n",
       "    <tr>\n",
       "      <td>12</td>\n",
       "      <td>13</td>\n",
       "      <td>105</td>\n",
       "      <td>522.239769</td>\n",
       "    </tr>\n",
       "    <tr>\n",
       "      <td>13</td>\n",
       "      <td>14</td>\n",
       "      <td>110</td>\n",
       "      <td>542.272965</td>\n",
       "    </tr>\n",
       "    <tr>\n",
       "      <td>14</td>\n",
       "      <td>15</td>\n",
       "      <td>200</td>\n",
       "      <td>991.559437</td>\n",
       "    </tr>\n",
       "    <tr>\n",
       "      <td>15</td>\n",
       "      <td>16</td>\n",
       "      <td>200</td>\n",
       "      <td>986.396415</td>\n",
       "    </tr>\n",
       "    <tr>\n",
       "      <td>16</td>\n",
       "      <td>17</td>\n",
       "      <td>110</td>\n",
       "      <td>540.958072</td>\n",
       "    </tr>\n",
       "    <tr>\n",
       "      <td>17</td>\n",
       "      <td>18</td>\n",
       "      <td>105</td>\n",
       "      <td>522.940227</td>\n",
       "    </tr>\n",
       "    <tr>\n",
       "      <td>18</td>\n",
       "      <td>19</td>\n",
       "      <td>102</td>\n",
       "      <td>503.360041</td>\n",
       "    </tr>\n",
       "    <tr>\n",
       "      <td>19</td>\n",
       "      <td>20</td>\n",
       "      <td>101</td>\n",
       "      <td>503.787756</td>\n",
       "    </tr>\n",
       "    <tr>\n",
       "      <td>20</td>\n",
       "      <td>21</td>\n",
       "      <td>100</td>\n",
       "      <td>499.026431</td>\n",
       "    </tr>\n",
       "    <tr>\n",
       "      <td>21</td>\n",
       "      <td>22</td>\n",
       "      <td>70</td>\n",
       "      <td>345.265399</td>\n",
       "    </tr>\n",
       "    <tr>\n",
       "      <td>22</td>\n",
       "      <td>23</td>\n",
       "      <td>55</td>\n",
       "      <td>270.210874</td>\n",
       "    </tr>\n",
       "    <tr>\n",
       "      <td>23</td>\n",
       "      <td>24</td>\n",
       "      <td>52</td>\n",
       "      <td>257.994390</td>\n",
       "    </tr>\n",
       "    <tr>\n",
       "      <td>24</td>\n",
       "      <td>25</td>\n",
       "      <td>50</td>\n",
       "      <td>246.678764</td>\n",
       "    </tr>\n",
       "    <tr>\n",
       "      <td>25</td>\n",
       "      <td>26</td>\n",
       "      <td>25</td>\n",
       "      <td>124.172658</td>\n",
       "    </tr>\n",
       "    <tr>\n",
       "      <td>26</td>\n",
       "      <td>27</td>\n",
       "      <td>22</td>\n",
       "      <td>108.466152</td>\n",
       "    </tr>\n",
       "    <tr>\n",
       "      <td>27</td>\n",
       "      <td>28</td>\n",
       "      <td>20</td>\n",
       "      <td>99.240793</td>\n",
       "    </tr>\n",
       "    <tr>\n",
       "      <td>28</td>\n",
       "      <td>29</td>\n",
       "      <td>5</td>\n",
       "      <td>24.885511</td>\n",
       "    </tr>\n",
       "    <tr>\n",
       "      <td>29</td>\n",
       "      <td>30</td>\n",
       "      <td>1</td>\n",
       "      <td>4.972409</td>\n",
       "    </tr>\n",
       "  </tbody>\n",
       "</table>\n",
       "</div>"
      ],
      "text/plain": [
       "    attempt  mass_g  voltage_mv\n",
       "0         1       1    4.927688\n",
       "1         2       5   24.574838\n",
       "2         3      20   98.632956\n",
       "3         4      22  108.397868\n",
       "4         5      25  124.027213\n",
       "5         6      50  247.811166\n",
       "6         7      52  257.551185\n",
       "7         8      55  271.610963\n",
       "8         9      70  344.767244\n",
       "9        10     100  494.131746\n",
       "10       11     101  501.433668\n",
       "11       12     102  508.016642\n",
       "12       13     105  522.239769\n",
       "13       14     110  542.272965\n",
       "14       15     200  991.559437\n",
       "15       16     200  986.396415\n",
       "16       17     110  540.958072\n",
       "17       18     105  522.940227\n",
       "18       19     102  503.360041\n",
       "19       20     101  503.787756\n",
       "20       21     100  499.026431\n",
       "21       22      70  345.265399\n",
       "22       23      55  270.210874\n",
       "23       24      52  257.994390\n",
       "24       25      50  246.678764\n",
       "25       26      25  124.172658\n",
       "26       27      22  108.466152\n",
       "27       28      20   99.240793\n",
       "28       29       5   24.885511\n",
       "29       30       1    4.972409"
      ]
     },
     "execution_count": 2,
     "metadata": {},
     "output_type": "execute_result"
    }
   ],
   "source": [
    "balance = pd.read_excel('balance.xlsx')\n",
    "balance"
   ]
  },
  {
   "cell_type": "code",
   "execution_count": 3,
   "metadata": {},
   "outputs": [],
   "source": [
    "unknown_mass= 224.271 # The voltage output (mV) to figure out the unknown mass"
   ]
  },
  {
   "cell_type": "markdown",
   "metadata": {},
   "source": [
    "### Mass vs Voltage Graph"
   ]
  },
  {
   "cell_type": "code",
   "execution_count": 4,
   "metadata": {
    "scrolled": true
   },
   "outputs": [
    {
     "data": {
      "text/plain": [
       "<matplotlib.legend.Legend at 0x258b8b94388>"
      ]
     },
     "execution_count": 4,
     "metadata": {},
     "output_type": "execute_result"
    },
    {
     "data": {
      "image/png": "[encoded data removed]",
      "text/plain": [
       "<Figure size 432x288 with 1 Axes>"
      ]
     },
     "metadata": {
      "needs_background": "light"
     },
     "output_type": "display_data"
    }
   ],
   "source": [
    "plt.plot(balance['mass_g'][:15], balance['voltage_mv'][:15],'o', label='increasing weights')\n",
    "plt.plot(balance['mass_g'][15:], balance['voltage_mv'][15:],'o',label='decreasing weights')\n",
    "\n",
    "plt.xlabel('Mass (g)')\n",
    "plt.ylabel('Voltage (mV)')\n",
    "plt.title('Mass (g) vs Voltage (mV) Graph')\n",
    "plt.grid(True)\n",
    "plt.legend()\n"
   ]
  },
  {
   "cell_type": "markdown",
   "metadata": {},
   "source": [
    "## Calculations of calibration equation (for increasing weights)"
   ]
  },
  {
   "cell_type": "code",
   "execution_count": 5,
   "metadata": {
    "scrolled": false
   },
   "outputs": [
    {
     "data": {
      "text/html": [
       "<div>\n",
       "<style scoped>\n",
       "    .dataframe tbody tr th:only-of-type {\n",
       "        vertical-align: middle;\n",
       "    }\n",
       "\n",
       "    .dataframe tbody tr th {\n",
       "        vertical-align: top;\n",
       "    }\n",
       "\n",
       "    .dataframe thead th {\n",
       "        text-align: right;\n",
       "    }\n",
       "</style>\n",
       "<table border=\"1\" class=\"dataframe\">\n",
       "  <thead>\n",
       "    <tr style=\"text-align: right;\">\n",
       "      <th></th>\n",
       "      <th>x</th>\n",
       "      <th>y</th>\n",
       "      <th>x*y</th>\n",
       "      <th>x^2</th>\n",
       "    </tr>\n",
       "  </thead>\n",
       "  <tbody>\n",
       "    <tr>\n",
       "      <td>0</td>\n",
       "      <td>1</td>\n",
       "      <td>4.927688</td>\n",
       "      <td>4.927688</td>\n",
       "      <td>1</td>\n",
       "    </tr>\n",
       "    <tr>\n",
       "      <td>1</td>\n",
       "      <td>5</td>\n",
       "      <td>24.574838</td>\n",
       "      <td>122.874190</td>\n",
       "      <td>25</td>\n",
       "    </tr>\n",
       "    <tr>\n",
       "      <td>2</td>\n",
       "      <td>20</td>\n",
       "      <td>98.632956</td>\n",
       "      <td>1972.659120</td>\n",
       "      <td>400</td>\n",
       "    </tr>\n",
       "    <tr>\n",
       "      <td>3</td>\n",
       "      <td>22</td>\n",
       "      <td>108.397868</td>\n",
       "      <td>2384.753096</td>\n",
       "      <td>484</td>\n",
       "    </tr>\n",
       "    <tr>\n",
       "      <td>4</td>\n",
       "      <td>25</td>\n",
       "      <td>124.027213</td>\n",
       "      <td>3100.680325</td>\n",
       "      <td>625</td>\n",
       "    </tr>\n",
       "    <tr>\n",
       "      <td>5</td>\n",
       "      <td>50</td>\n",
       "      <td>247.811166</td>\n",
       "      <td>12390.558300</td>\n",
       "      <td>2500</td>\n",
       "    </tr>\n",
       "    <tr>\n",
       "      <td>6</td>\n",
       "      <td>52</td>\n",
       "      <td>257.551185</td>\n",
       "      <td>13392.661620</td>\n",
       "      <td>2704</td>\n",
       "    </tr>\n",
       "    <tr>\n",
       "      <td>7</td>\n",
       "      <td>55</td>\n",
       "      <td>271.610963</td>\n",
       "      <td>14938.602965</td>\n",
       "      <td>3025</td>\n",
       "    </tr>\n",
       "    <tr>\n",
       "      <td>8</td>\n",
       "      <td>70</td>\n",
       "      <td>344.767244</td>\n",
       "      <td>24133.707080</td>\n",
       "      <td>4900</td>\n",
       "    </tr>\n",
       "    <tr>\n",
       "      <td>9</td>\n",
       "      <td>100</td>\n",
       "      <td>494.131746</td>\n",
       "      <td>49413.174600</td>\n",
       "      <td>10000</td>\n",
       "    </tr>\n",
       "    <tr>\n",
       "      <td>10</td>\n",
       "      <td>101</td>\n",
       "      <td>501.433668</td>\n",
       "      <td>50644.800468</td>\n",
       "      <td>10201</td>\n",
       "    </tr>\n",
       "    <tr>\n",
       "      <td>11</td>\n",
       "      <td>102</td>\n",
       "      <td>508.016642</td>\n",
       "      <td>51817.697484</td>\n",
       "      <td>10404</td>\n",
       "    </tr>\n",
       "    <tr>\n",
       "      <td>12</td>\n",
       "      <td>105</td>\n",
       "      <td>522.239769</td>\n",
       "      <td>54835.175745</td>\n",
       "      <td>11025</td>\n",
       "    </tr>\n",
       "    <tr>\n",
       "      <td>13</td>\n",
       "      <td>110</td>\n",
       "      <td>542.272965</td>\n",
       "      <td>59650.026150</td>\n",
       "      <td>12100</td>\n",
       "    </tr>\n",
       "    <tr>\n",
       "      <td>14</td>\n",
       "      <td>200</td>\n",
       "      <td>991.559437</td>\n",
       "      <td>198311.887400</td>\n",
       "      <td>40000</td>\n",
       "    </tr>\n",
       "  </tbody>\n",
       "</table>\n",
       "</div>"
      ],
      "text/plain": [
       "      x           y            x*y    x^2\n",
       "0     1    4.927688       4.927688      1\n",
       "1     5   24.574838     122.874190     25\n",
       "2    20   98.632956    1972.659120    400\n",
       "3    22  108.397868    2384.753096    484\n",
       "4    25  124.027213    3100.680325    625\n",
       "5    50  247.811166   12390.558300   2500\n",
       "6    52  257.551185   13392.661620   2704\n",
       "7    55  271.610963   14938.602965   3025\n",
       "8    70  344.767244   24133.707080   4900\n",
       "9   100  494.131746   49413.174600  10000\n",
       "10  101  501.433668   50644.800468  10201\n",
       "11  102  508.016642   51817.697484  10404\n",
       "12  105  522.239769   54835.175745  11025\n",
       "13  110  542.272965   59650.026150  12100\n",
       "14  200  991.559437  198311.887400  40000"
      ]
     },
     "execution_count": 5,
     "metadata": {},
     "output_type": "execute_result"
    }
   ],
   "source": [
    "clb_inc = pd.DataFrame(balance['mass_g'][:15]) # Creating new Dataframe for calculations, mass values are imported as x\n",
    "\n",
    "clb_inc = clb_inc.rename(columns = {'mass_g':'x'}) # Renaming the column as x\n",
    "\n",
    "clb_inc['y'] = balance['voltage_mv'][:15] # Voltage values are imported as y\n",
    "\n",
    "clb_inc['x*y'] = clb_inc['x']*clb_inc['y'] # Calculating x*y\n",
    "\n",
    "clb_inc['x^2'] = clb_inc['x']**2 # Calculating x^2\n",
    "\n",
    "clb_inc"
   ]
  },
  {
   "cell_type": "code",
   "execution_count": 6,
   "metadata": {},
   "outputs": [],
   "source": [
    "clb_inc.to_excel('clb_inc.xlsx') # Writing data in excel format for the report"
   ]
  },
  {
   "cell_type": "markdown",
   "metadata": {},
   "source": [
    "### Coefficients of the linear calibration equation (y = ax + b) For increasing weights"
   ]
  },
  {
   "cell_type": "markdown",
   "metadata": {},
   "source": [
    "### $a_1 = \\frac{n\\sum{x_iy_i}-\\sum{x_i}\\sum{y_i}}{n\\sum{(x_i)^2}-(\\sum{x_i})^2}$"
   ]
  },
  {
   "cell_type": "markdown",
   "metadata": {},
   "source": [
    "### $b_1 = \\frac{(\\sum{y_i})(\\sum{x_i})^2-(\\sum{x_iy_i})(\\sum{x_i})}{n\\sum{(x_i)^2}-(\\sum{x_i})^2}$"
   ]
  },
  {
   "cell_type": "code",
   "execution_count": 7,
   "metadata": {},
   "outputs": [],
   "source": [
    "a_inc = ((15*np.sum(clb_inc['x*y'])-np.sum(clb_inc['x'])*np.sum(clb_inc['y']))\n",
    "         /(15*np.sum(clb_inc['x^2'])-(np.sum(clb_inc['x']))**2)) # The slope of the curve\n",
    "\n",
    "b_inc = ((np.sum(clb_inc['y'])*np.sum(clb_inc['x^2'])-np.sum(clb_inc['x*y'])*np.sum(clb_inc['x']))\n",
    "         /(15*np.sum(clb_inc['x^2'])-np.sum(clb_inc['x'])**2)) # Interception point on the y-axis"
   ]
  },
  {
   "cell_type": "code",
   "execution_count": 8,
   "metadata": {
    "scrolled": true
   },
   "outputs": [
    {
     "data": {
      "text/plain": [
       "4.959416"
      ]
     },
     "execution_count": 8,
     "metadata": {},
     "output_type": "execute_result"
    }
   ],
   "source": [
    "round(a_inc,6)"
   ]
  },
  {
   "cell_type": "code",
   "execution_count": 9,
   "metadata": {
    "scrolled": false
   },
   "outputs": [
    {
     "data": {
      "text/plain": [
       "-0.448677"
      ]
     },
     "execution_count": 9,
     "metadata": {},
     "output_type": "execute_result"
    }
   ],
   "source": [
    "round(b_inc, 6)"
   ]
  },
  {
   "cell_type": "markdown",
   "metadata": {},
   "source": [
    "#### Calibration Equation: $y = 4.959416x - 0.448677 $"
   ]
  },
  {
   "cell_type": "code",
   "execution_count": 10,
   "metadata": {},
   "outputs": [
    {
     "data": {
      "text/plain": [
       "<matplotlib.legend.Legend at 0x258b8e274c8>"
      ]
     },
     "execution_count": 10,
     "metadata": {},
     "output_type": "execute_result"
    },
    {
     "data": {
      "image/png": "[encoded data removed]",
      "text/plain": [
       "<Figure size 432x288 with 1 Axes>"
      ]
     },
     "metadata": {
      "needs_background": "light"
     },
     "output_type": "display_data"
    }
   ],
   "source": [
    "plt.plot(balance['mass_g'][:15], balance['voltage_mv'][:15],'o')\n",
    "plt.plot(clb_inc['x'], a_inc*clb_inc['x'] + clb_inc['x'], label='y=4.959416x − 0.448677')\n",
    "plt.xlabel('Mass (g)')\n",
    "plt.ylabel('Voltage (mV)')\n",
    "plt.legend()"
   ]
  },
  {
   "cell_type": "code",
   "execution_count": 11,
   "metadata": {
    "scrolled": false
   },
   "outputs": [
    {
     "data": {
      "text/plain": [
       "45.311721"
      ]
     },
     "execution_count": 11,
     "metadata": {},
     "output_type": "execute_result"
    }
   ],
   "source": [
    "mass_inc = (unknown_mass - b_inc) / a_inc # Calculating the unknown mass using the given voltage output\n",
    "round(mass_inc,6)"
   ]
  },
  {
   "cell_type": "code",
   "execution_count": 12,
   "metadata": {},
   "outputs": [
    {
     "data": {
      "text/plain": [
       "0.444508"
      ]
     },
     "execution_count": 12,
     "metadata": {},
     "output_type": "execute_result"
    }
   ],
   "source": [
    "mass_inc_force = mass_inc*10**(-3)*9.81 # Converting mass to force, g=9.81 m/s^2\n",
    "round(mass_inc_force,6)"
   ]
  },
  {
   "cell_type": "markdown",
   "metadata": {},
   "source": [
    "#### Unknown Mass: $0.444508 N, 45.311721 g$"
   ]
  },
  {
   "cell_type": "markdown",
   "metadata": {},
   "source": [
    "##  Calculations of calibration equation (for decreasing weights)"
   ]
  },
  {
   "cell_type": "code",
   "execution_count": 13,
   "metadata": {
    "scrolled": true
   },
   "outputs": [
    {
     "data": {
      "text/html": [
       "<div>\n",
       "<style scoped>\n",
       "    .dataframe tbody tr th:only-of-type {\n",
       "        vertical-align: middle;\n",
       "    }\n",
       "\n",
       "    .dataframe tbody tr th {\n",
       "        vertical-align: top;\n",
       "    }\n",
       "\n",
       "    .dataframe thead th {\n",
       "        text-align: right;\n",
       "    }\n",
       "</style>\n",
       "<table border=\"1\" class=\"dataframe\">\n",
       "  <thead>\n",
       "    <tr style=\"text-align: right;\">\n",
       "      <th></th>\n",
       "      <th>x</th>\n",
       "      <th>y</th>\n",
       "      <th>x*y</th>\n",
       "      <th>x^2</th>\n",
       "    </tr>\n",
       "  </thead>\n",
       "  <tbody>\n",
       "    <tr>\n",
       "      <td>15</td>\n",
       "      <td>200</td>\n",
       "      <td>986.396415</td>\n",
       "      <td>197279.283000</td>\n",
       "      <td>40000</td>\n",
       "    </tr>\n",
       "    <tr>\n",
       "      <td>16</td>\n",
       "      <td>110</td>\n",
       "      <td>540.958072</td>\n",
       "      <td>59505.387920</td>\n",
       "      <td>12100</td>\n",
       "    </tr>\n",
       "    <tr>\n",
       "      <td>17</td>\n",
       "      <td>105</td>\n",
       "      <td>522.940227</td>\n",
       "      <td>54908.723835</td>\n",
       "      <td>11025</td>\n",
       "    </tr>\n",
       "    <tr>\n",
       "      <td>18</td>\n",
       "      <td>102</td>\n",
       "      <td>503.360041</td>\n",
       "      <td>51342.724182</td>\n",
       "      <td>10404</td>\n",
       "    </tr>\n",
       "    <tr>\n",
       "      <td>19</td>\n",
       "      <td>101</td>\n",
       "      <td>503.787756</td>\n",
       "      <td>50882.563356</td>\n",
       "      <td>10201</td>\n",
       "    </tr>\n",
       "    <tr>\n",
       "      <td>20</td>\n",
       "      <td>100</td>\n",
       "      <td>499.026431</td>\n",
       "      <td>49902.643100</td>\n",
       "      <td>10000</td>\n",
       "    </tr>\n",
       "    <tr>\n",
       "      <td>21</td>\n",
       "      <td>70</td>\n",
       "      <td>345.265399</td>\n",
       "      <td>24168.577930</td>\n",
       "      <td>4900</td>\n",
       "    </tr>\n",
       "    <tr>\n",
       "      <td>22</td>\n",
       "      <td>55</td>\n",
       "      <td>270.210874</td>\n",
       "      <td>14861.598070</td>\n",
       "      <td>3025</td>\n",
       "    </tr>\n",
       "    <tr>\n",
       "      <td>23</td>\n",
       "      <td>52</td>\n",
       "      <td>257.994390</td>\n",
       "      <td>13415.708280</td>\n",
       "      <td>2704</td>\n",
       "    </tr>\n",
       "    <tr>\n",
       "      <td>24</td>\n",
       "      <td>50</td>\n",
       "      <td>246.678764</td>\n",
       "      <td>12333.938200</td>\n",
       "      <td>2500</td>\n",
       "    </tr>\n",
       "    <tr>\n",
       "      <td>25</td>\n",
       "      <td>25</td>\n",
       "      <td>124.172658</td>\n",
       "      <td>3104.316450</td>\n",
       "      <td>625</td>\n",
       "    </tr>\n",
       "    <tr>\n",
       "      <td>26</td>\n",
       "      <td>22</td>\n",
       "      <td>108.466152</td>\n",
       "      <td>2386.255344</td>\n",
       "      <td>484</td>\n",
       "    </tr>\n",
       "    <tr>\n",
       "      <td>27</td>\n",
       "      <td>20</td>\n",
       "      <td>99.240793</td>\n",
       "      <td>1984.815860</td>\n",
       "      <td>400</td>\n",
       "    </tr>\n",
       "    <tr>\n",
       "      <td>28</td>\n",
       "      <td>5</td>\n",
       "      <td>24.885511</td>\n",
       "      <td>124.427555</td>\n",
       "      <td>25</td>\n",
       "    </tr>\n",
       "    <tr>\n",
       "      <td>29</td>\n",
       "      <td>1</td>\n",
       "      <td>4.972409</td>\n",
       "      <td>4.972409</td>\n",
       "      <td>1</td>\n",
       "    </tr>\n",
       "  </tbody>\n",
       "</table>\n",
       "</div>"
      ],
      "text/plain": [
       "      x           y            x*y    x^2\n",
       "15  200  986.396415  197279.283000  40000\n",
       "16  110  540.958072   59505.387920  12100\n",
       "17  105  522.940227   54908.723835  11025\n",
       "18  102  503.360041   51342.724182  10404\n",
       "19  101  503.787756   50882.563356  10201\n",
       "20  100  499.026431   49902.643100  10000\n",
       "21   70  345.265399   24168.577930   4900\n",
       "22   55  270.210874   14861.598070   3025\n",
       "23   52  257.994390   13415.708280   2704\n",
       "24   50  246.678764   12333.938200   2500\n",
       "25   25  124.172658    3104.316450    625\n",
       "26   22  108.466152    2386.255344    484\n",
       "27   20   99.240793    1984.815860    400\n",
       "28    5   24.885511     124.427555     25\n",
       "29    1    4.972409       4.972409      1"
      ]
     },
     "execution_count": 13,
     "metadata": {},
     "output_type": "execute_result"
    }
   ],
   "source": [
    "clb_dec = pd.DataFrame(balance['mass_g'][15:]) # Creating new Dataframe for calculations, mass values are imported as x\n",
    "\n",
    "clb_dec = clb_dec.rename(columns = {'mass_g':'x'}) # Renaming the column as x\n",
    "\n",
    "clb_dec['y'] = balance['voltage_mv'][15:] # Voltage values are imported as y\n",
    "\n",
    "clb_dec['x*y'] = clb_dec['x']*clb_dec['y'] # Calculating x*y\n",
    "\n",
    "clb_dec['x^2'] = clb_dec['x']**2 # Calculating x^2\n",
    "\n",
    "clb_dec"
   ]
  },
  {
   "cell_type": "code",
   "execution_count": 14,
   "metadata": {},
   "outputs": [],
   "source": [
    "clb_dec.to_excel('clb_dec.xlsx') # Writing data in excel format for the report"
   ]
  },
  {
   "cell_type": "markdown",
   "metadata": {},
   "source": [
    "### Coefficients of the linear calibration equation (y = ax + b) For decreasing weights"
   ]
  },
  {
   "cell_type": "markdown",
   "metadata": {},
   "source": [
    "### $a_2 = \\frac{n\\sum{x_iy_i}-\\sum{x_i}\\sum{y_i}}{n\\sum{(x_i)^2}-(\\sum{x_i})^2}$"
   ]
  },
  {
   "cell_type": "markdown",
   "metadata": {},
   "source": [
    "### $b_2 = \\frac{(\\sum{y_i})(\\sum{x_i})^2-(\\sum{x_iy_i})(\\sum{x_i})}{n\\sum{(x_i)^2}-(\\sum{x_i})^2}$"
   ]
  },
  {
   "cell_type": "code",
   "execution_count": 15,
   "metadata": {},
   "outputs": [],
   "source": [
    "a_dec = ((15*np.sum(clb_dec['x*y'])-np.sum(clb_dec['x'])*np.sum(clb_dec['y']))\n",
    "         /(15*np.sum(clb_dec['x^2'])-(np.sum(clb_dec['x']))**2)) # The slope of the curve\n",
    "\n",
    "b_dec = ((np.sum(clb_dec['y'])*np.sum(clb_dec['x^2'])-np.sum(clb_dec['x*y'])*np.sum(clb_dec['x']))\n",
    "         /(15*np.sum(clb_dec['x^2'])-np.sum(clb_dec['x'])**2)) # Interception point on the y-axis"
   ]
  },
  {
   "cell_type": "code",
   "execution_count": 16,
   "metadata": {
    "scrolled": true
   },
   "outputs": [
    {
     "data": {
      "text/plain": [
       "4.942524"
      ]
     },
     "execution_count": 16,
     "metadata": {},
     "output_type": "execute_result"
    }
   ],
   "source": [
    "round(a_dec,6)"
   ]
  },
  {
   "cell_type": "code",
   "execution_count": 17,
   "metadata": {},
   "outputs": [
    {
     "data": {
      "text/plain": [
       "0.457789"
      ]
     },
     "execution_count": 17,
     "metadata": {},
     "output_type": "execute_result"
    }
   ],
   "source": [
    "round(b_dec, 6)"
   ]
  },
  {
   "cell_type": "markdown",
   "metadata": {},
   "source": [
    "#### Calibration Equation: $y=4.942524x + 0.457789$"
   ]
  },
  {
   "cell_type": "code",
   "execution_count": 18,
   "metadata": {},
   "outputs": [
    {
     "data": {
      "text/plain": [
       "<matplotlib.legend.Legend at 0x258b8ea1888>"
      ]
     },
     "execution_count": 18,
     "metadata": {},
     "output_type": "execute_result"
    },
    {
     "data": {
      "image/png": "[encoded data removed]",
      "text/plain": [
       "<Figure size 432x288 with 1 Axes>"
      ]
     },
     "metadata": {
      "needs_background": "light"
     },
     "output_type": "display_data"
    }
   ],
   "source": [
    "plt.plot(balance['mass_g'][15:], balance['voltage_mv'][15:],'o')\n",
    "plt.plot(clb_dec['x'], a_dec*clb_dec['x'] + clb_dec['x'], label='y=4.942524x + 0.457789')\n",
    "plt.xlabel('Mass (g)')\n",
    "plt.ylabel('Voltage (mV)')\n",
    "plt.legend()"
   ]
  },
  {
   "cell_type": "code",
   "execution_count": 19,
   "metadata": {
    "scrolled": true
   },
   "outputs": [
    {
     "data": {
      "text/plain": [
       "45.283185"
      ]
     },
     "execution_count": 19,
     "metadata": {},
     "output_type": "execute_result"
    }
   ],
   "source": [
    "mass_dec = (unknown_mass - b_dec) / a_dec # Calculating the unknown mass using the given voltage output\n",
    "round(mass_dec,6)"
   ]
  },
  {
   "cell_type": "code",
   "execution_count": 20,
   "metadata": {},
   "outputs": [
    {
     "data": {
      "text/plain": [
       "0.444228"
      ]
     },
     "execution_count": 20,
     "metadata": {},
     "output_type": "execute_result"
    }
   ],
   "source": [
    "mass_dec_force = mass_dec*10**(-3)*9.81 # Converting mass to force, g=9.81 m/s^2\n",
    "round(mass_dec_force,6)"
   ]
  },
  {
   "cell_type": "markdown",
   "metadata": {},
   "source": [
    "#### Unknown Mass: $0.444228 N, 45.283185 g$"
   ]
  },
  {
   "cell_type": "markdown",
   "metadata": {},
   "source": [
    "## Calculations for correlation coefficient (For increasing weights)"
   ]
  },
  {
   "cell_type": "code",
   "execution_count": 21,
   "metadata": {
    "scrolled": false
   },
   "outputs": [
    {
     "data": {
      "text/html": [
       "<div>\n",
       "<style scoped>\n",
       "    .dataframe tbody tr th:only-of-type {\n",
       "        vertical-align: middle;\n",
       "    }\n",
       "\n",
       "    .dataframe tbody tr th {\n",
       "        vertical-align: top;\n",
       "    }\n",
       "\n",
       "    .dataframe thead th {\n",
       "        text-align: right;\n",
       "    }\n",
       "</style>\n",
       "<table border=\"1\" class=\"dataframe\">\n",
       "  <thead>\n",
       "    <tr style=\"text-align: right;\">\n",
       "      <th></th>\n",
       "      <th>x</th>\n",
       "      <th>y</th>\n",
       "      <th>y-y_avg</th>\n",
       "      <th>(y-y_avg)^2</th>\n",
       "      <th>y_c</th>\n",
       "      <th>y-y_c</th>\n",
       "      <th>(y-y_c)^2</th>\n",
       "    </tr>\n",
       "  </thead>\n",
       "  <tbody>\n",
       "    <tr>\n",
       "      <td>0</td>\n",
       "      <td>1</td>\n",
       "      <td>4.927688</td>\n",
       "      <td>-331.202669</td>\n",
       "      <td>109695.207644</td>\n",
       "      <td>4.510739</td>\n",
       "      <td>0.416949</td>\n",
       "      <td>0.173846</td>\n",
       "    </tr>\n",
       "    <tr>\n",
       "      <td>1</td>\n",
       "      <td>5</td>\n",
       "      <td>24.574838</td>\n",
       "      <td>-311.555519</td>\n",
       "      <td>97066.841129</td>\n",
       "      <td>24.348403</td>\n",
       "      <td>0.226435</td>\n",
       "      <td>0.051273</td>\n",
       "    </tr>\n",
       "    <tr>\n",
       "      <td>2</td>\n",
       "      <td>20</td>\n",
       "      <td>98.632956</td>\n",
       "      <td>-237.497401</td>\n",
       "      <td>56405.015260</td>\n",
       "      <td>98.739643</td>\n",
       "      <td>-0.106687</td>\n",
       "      <td>0.011382</td>\n",
       "    </tr>\n",
       "    <tr>\n",
       "      <td>3</td>\n",
       "      <td>22</td>\n",
       "      <td>108.397868</td>\n",
       "      <td>-227.732489</td>\n",
       "      <td>51862.086334</td>\n",
       "      <td>108.658475</td>\n",
       "      <td>-0.260607</td>\n",
       "      <td>0.067916</td>\n",
       "    </tr>\n",
       "    <tr>\n",
       "      <td>4</td>\n",
       "      <td>25</td>\n",
       "      <td>124.027213</td>\n",
       "      <td>-212.103144</td>\n",
       "      <td>44987.743497</td>\n",
       "      <td>123.536723</td>\n",
       "      <td>0.490490</td>\n",
       "      <td>0.240580</td>\n",
       "    </tr>\n",
       "    <tr>\n",
       "      <td>5</td>\n",
       "      <td>50</td>\n",
       "      <td>247.811166</td>\n",
       "      <td>-88.319191</td>\n",
       "      <td>7800.279416</td>\n",
       "      <td>247.522124</td>\n",
       "      <td>0.289042</td>\n",
       "      <td>0.083545</td>\n",
       "    </tr>\n",
       "    <tr>\n",
       "      <td>6</td>\n",
       "      <td>52</td>\n",
       "      <td>257.551185</td>\n",
       "      <td>-78.579172</td>\n",
       "      <td>6174.686199</td>\n",
       "      <td>257.440956</td>\n",
       "      <td>0.110229</td>\n",
       "      <td>0.012150</td>\n",
       "    </tr>\n",
       "    <tr>\n",
       "      <td>7</td>\n",
       "      <td>55</td>\n",
       "      <td>271.610963</td>\n",
       "      <td>-64.519394</td>\n",
       "      <td>4162.752142</td>\n",
       "      <td>272.319204</td>\n",
       "      <td>-0.708241</td>\n",
       "      <td>0.501605</td>\n",
       "    </tr>\n",
       "    <tr>\n",
       "      <td>8</td>\n",
       "      <td>70</td>\n",
       "      <td>344.767244</td>\n",
       "      <td>8.636887</td>\n",
       "      <td>74.595825</td>\n",
       "      <td>346.710444</td>\n",
       "      <td>-1.943200</td>\n",
       "      <td>3.776026</td>\n",
       "    </tr>\n",
       "    <tr>\n",
       "      <td>9</td>\n",
       "      <td>100</td>\n",
       "      <td>494.131746</td>\n",
       "      <td>158.001389</td>\n",
       "      <td>24964.439073</td>\n",
       "      <td>495.492924</td>\n",
       "      <td>-1.361178</td>\n",
       "      <td>1.852807</td>\n",
       "    </tr>\n",
       "    <tr>\n",
       "      <td>10</td>\n",
       "      <td>101</td>\n",
       "      <td>501.433668</td>\n",
       "      <td>165.303311</td>\n",
       "      <td>27325.184782</td>\n",
       "      <td>500.452340</td>\n",
       "      <td>0.981328</td>\n",
       "      <td>0.963004</td>\n",
       "    </tr>\n",
       "    <tr>\n",
       "      <td>11</td>\n",
       "      <td>102</td>\n",
       "      <td>508.016642</td>\n",
       "      <td>171.886285</td>\n",
       "      <td>29544.895132</td>\n",
       "      <td>505.411756</td>\n",
       "      <td>2.604886</td>\n",
       "      <td>6.785429</td>\n",
       "    </tr>\n",
       "    <tr>\n",
       "      <td>12</td>\n",
       "      <td>105</td>\n",
       "      <td>522.239769</td>\n",
       "      <td>186.109412</td>\n",
       "      <td>34636.713409</td>\n",
       "      <td>520.290004</td>\n",
       "      <td>1.949765</td>\n",
       "      <td>3.801582</td>\n",
       "    </tr>\n",
       "    <tr>\n",
       "      <td>13</td>\n",
       "      <td>110</td>\n",
       "      <td>542.272965</td>\n",
       "      <td>206.142608</td>\n",
       "      <td>42494.775025</td>\n",
       "      <td>545.087085</td>\n",
       "      <td>-2.814120</td>\n",
       "      <td>7.919269</td>\n",
       "    </tr>\n",
       "    <tr>\n",
       "      <td>14</td>\n",
       "      <td>200</td>\n",
       "      <td>991.559437</td>\n",
       "      <td>655.429080</td>\n",
       "      <td>429587.279521</td>\n",
       "      <td>991.434526</td>\n",
       "      <td>0.124911</td>\n",
       "      <td>0.015603</td>\n",
       "    </tr>\n",
       "  </tbody>\n",
       "</table>\n",
       "</div>"
      ],
      "text/plain": [
       "      x           y     y-y_avg    (y-y_avg)^2         y_c     y-y_c  \\\n",
       "0     1    4.927688 -331.202669  109695.207644    4.510739  0.416949   \n",
       "1     5   24.574838 -311.555519   97066.841129   24.348403  0.226435   \n",
       "2    20   98.632956 -237.497401   56405.015260   98.739643 -0.106687   \n",
       "3    22  108.397868 -227.732489   51862.086334  108.658475 -0.260607   \n",
       "4    25  124.027213 -212.103144   44987.743497  123.536723  0.490490   \n",
       "5    50  247.811166  -88.319191    7800.279416  247.522124  0.289042   \n",
       "6    52  257.551185  -78.579172    6174.686199  257.440956  0.110229   \n",
       "7    55  271.610963  -64.519394    4162.752142  272.319204 -0.708241   \n",
       "8    70  344.767244    8.636887      74.595825  346.710444 -1.943200   \n",
       "9   100  494.131746  158.001389   24964.439073  495.492924 -1.361178   \n",
       "10  101  501.433668  165.303311   27325.184782  500.452340  0.981328   \n",
       "11  102  508.016642  171.886285   29544.895132  505.411756  2.604886   \n",
       "12  105  522.239769  186.109412   34636.713409  520.290004  1.949765   \n",
       "13  110  542.272965  206.142608   42494.775025  545.087085 -2.814120   \n",
       "14  200  991.559437  655.429080  429587.279521  991.434526  0.124911   \n",
       "\n",
       "    (y-y_c)^2  \n",
       "0    0.173846  \n",
       "1    0.051273  \n",
       "2    0.011382  \n",
       "3    0.067916  \n",
       "4    0.240580  \n",
       "5    0.083545  \n",
       "6    0.012150  \n",
       "7    0.501605  \n",
       "8    3.776026  \n",
       "9    1.852807  \n",
       "10   0.963004  \n",
       "11   6.785429  \n",
       "12   3.801582  \n",
       "13   7.919269  \n",
       "14   0.015603  "
      ]
     },
     "execution_count": 21,
     "metadata": {},
     "output_type": "execute_result"
    }
   ],
   "source": [
    "cor_inc = pd.DataFrame(balance['mass_g'][:15]) # Creating new Dataframe for calculations, mass values are imported as x\n",
    "\n",
    "cor_inc = cor_inc.rename(columns = {'mass_g':'x'}) # Renaming the column as x\n",
    "\n",
    "cor_inc['y'] = balance['voltage_mv'][:15] # Voltage values are imported as y\n",
    "\n",
    "cor_inc['y-y_avg'] = cor_inc['y']-np.mean(cor_inc['y']) # Differences between y values and avarage y\n",
    "\n",
    "cor_inc['(y-y_avg)^2'] = cor_inc['y-y_avg']**2 # Squares of the differences\n",
    "\n",
    "cor_inc['y_c'] = a_inc*cor_inc['x'] + b_inc # Calculating y values using the calibration equation\n",
    "\n",
    "cor_inc['y-y_c'] = cor_inc['y']-cor_inc['y_c'] # Differences between y values and calculated y values\n",
    "\n",
    "cor_inc['(y-y_c)^2'] = cor_inc['y-y_c']**2 # Squares of the differences\n",
    "\n",
    "cor_inc"
   ]
  },
  {
   "cell_type": "code",
   "execution_count": 22,
   "metadata": {},
   "outputs": [],
   "source": [
    "cor_inc.to_excel('cor_inc.xlsx') # Writing data in excel format for the report"
   ]
  },
  {
   "cell_type": "markdown",
   "metadata": {},
   "source": [
    "### Calculating $\\sigma_y$, $\\sigma_{y,x}$ and $R$ (Correlation Coefficent) for increasing weights"
   ]
  },
  {
   "cell_type": "markdown",
   "metadata": {},
   "source": [
    "### $\\sigma_y = (\\frac{\\sum_{i=1}^{n} (y_i-y_{avg})^2}{n-1})^{1/2}$"
   ]
  },
  {
   "cell_type": "markdown",
   "metadata": {},
   "source": [
    "### $\\sigma_{y,x}= (\\frac{\\sum_{i=1}^{n} (y_i-y_{calc})^2}{n-2})^{1/2}$"
   ]
  },
  {
   "cell_type": "markdown",
   "metadata": {},
   "source": [
    "### $R = (1-\\frac{(\\sigma_{y,x})^2}{(\\sigma_y)^2})^{1/2}$"
   ]
  },
  {
   "cell_type": "code",
   "execution_count": 23,
   "metadata": {
    "scrolled": true
   },
   "outputs": [
    {
     "data": {
      "text/plain": [
       "262.784879"
      ]
     },
     "execution_count": 23,
     "metadata": {},
     "output_type": "execute_result"
    }
   ],
   "source": [
    "y_std_inc = ((np.sum(cor_inc['(y-y_avg)^2']))/(15-1))**(1/2)\n",
    "round(y_std_inc,6)"
   ]
  },
  {
   "cell_type": "markdown",
   "metadata": {},
   "source": [
    "$\\sigma_y = 262.784879$ "
   ]
  },
  {
   "cell_type": "code",
   "execution_count": 24,
   "metadata": {},
   "outputs": [
    {
     "data": {
      "text/plain": [
       "1.421159"
      ]
     },
     "execution_count": 24,
     "metadata": {},
     "output_type": "execute_result"
    }
   ],
   "source": [
    "yx_std_inc = ((np.sum(cor_inc['(y-y_c)^2']))/(15-2))**(1/2)\n",
    "round(yx_std_inc,6)"
   ]
  },
  {
   "cell_type": "markdown",
   "metadata": {},
   "source": [
    "$\\sigma_{y,x} = 1.421159$"
   ]
  },
  {
   "cell_type": "code",
   "execution_count": 25,
   "metadata": {
    "scrolled": true
   },
   "outputs": [
    {
     "data": {
      "text/plain": [
       "0.999985"
      ]
     },
     "execution_count": 25,
     "metadata": {},
     "output_type": "execute_result"
    }
   ],
   "source": [
    "r_inc = (1-(yx_std_inc)**2/(y_std_inc)**2)**(1/2)\n",
    "round(r_inc,6)"
   ]
  },
  {
   "cell_type": "markdown",
   "metadata": {},
   "source": [
    "$R = 0.999985$"
   ]
  },
  {
   "cell_type": "markdown",
   "metadata": {},
   "source": [
    "## Calculations for correlation coefficient (For decreasing weights)"
   ]
  },
  {
   "cell_type": "code",
   "execution_count": 26,
   "metadata": {
    "scrolled": true
   },
   "outputs": [
    {
     "data": {
      "text/html": [
       "<div>\n",
       "<style scoped>\n",
       "    .dataframe tbody tr th:only-of-type {\n",
       "        vertical-align: middle;\n",
       "    }\n",
       "\n",
       "    .dataframe tbody tr th {\n",
       "        vertical-align: top;\n",
       "    }\n",
       "\n",
       "    .dataframe thead th {\n",
       "        text-align: right;\n",
       "    }\n",
       "</style>\n",
       "<table border=\"1\" class=\"dataframe\">\n",
       "  <thead>\n",
       "    <tr style=\"text-align: right;\">\n",
       "      <th></th>\n",
       "      <th>x</th>\n",
       "      <th>y</th>\n",
       "      <th>y-y_avg</th>\n",
       "      <th>(y-y_avg)^2</th>\n",
       "      <th>y_c</th>\n",
       "      <th>y-y_c</th>\n",
       "      <th>(y-y_c)^2</th>\n",
       "    </tr>\n",
       "  </thead>\n",
       "  <tbody>\n",
       "    <tr>\n",
       "      <td>15</td>\n",
       "      <td>200</td>\n",
       "      <td>986.396415</td>\n",
       "      <td>650.506022</td>\n",
       "      <td>423158.084918</td>\n",
       "      <td>988.962515</td>\n",
       "      <td>-2.566100</td>\n",
       "      <td>6.584867</td>\n",
       "    </tr>\n",
       "    <tr>\n",
       "      <td>16</td>\n",
       "      <td>110</td>\n",
       "      <td>540.958072</td>\n",
       "      <td>205.067679</td>\n",
       "      <td>42052.753052</td>\n",
       "      <td>544.135388</td>\n",
       "      <td>-3.177316</td>\n",
       "      <td>10.095338</td>\n",
       "    </tr>\n",
       "    <tr>\n",
       "      <td>17</td>\n",
       "      <td>105</td>\n",
       "      <td>522.940227</td>\n",
       "      <td>187.049834</td>\n",
       "      <td>34987.640474</td>\n",
       "      <td>519.422770</td>\n",
       "      <td>3.517457</td>\n",
       "      <td>12.372503</td>\n",
       "    </tr>\n",
       "    <tr>\n",
       "      <td>18</td>\n",
       "      <td>102</td>\n",
       "      <td>503.360041</td>\n",
       "      <td>167.469648</td>\n",
       "      <td>28046.083068</td>\n",
       "      <td>504.595199</td>\n",
       "      <td>-1.235158</td>\n",
       "      <td>1.525616</td>\n",
       "    </tr>\n",
       "    <tr>\n",
       "      <td>19</td>\n",
       "      <td>101</td>\n",
       "      <td>503.787756</td>\n",
       "      <td>167.897363</td>\n",
       "      <td>28189.524570</td>\n",
       "      <td>499.652676</td>\n",
       "      <td>4.135080</td>\n",
       "      <td>17.098890</td>\n",
       "    </tr>\n",
       "    <tr>\n",
       "      <td>20</td>\n",
       "      <td>100</td>\n",
       "      <td>499.026431</td>\n",
       "      <td>163.136038</td>\n",
       "      <td>26613.366960</td>\n",
       "      <td>494.710152</td>\n",
       "      <td>4.316279</td>\n",
       "      <td>18.630265</td>\n",
       "    </tr>\n",
       "    <tr>\n",
       "      <td>21</td>\n",
       "      <td>70</td>\n",
       "      <td>345.265399</td>\n",
       "      <td>9.375006</td>\n",
       "      <td>87.890741</td>\n",
       "      <td>346.434443</td>\n",
       "      <td>-1.169044</td>\n",
       "      <td>1.366664</td>\n",
       "    </tr>\n",
       "    <tr>\n",
       "      <td>22</td>\n",
       "      <td>55</td>\n",
       "      <td>270.210874</td>\n",
       "      <td>-65.679519</td>\n",
       "      <td>4313.799190</td>\n",
       "      <td>272.296589</td>\n",
       "      <td>-2.085715</td>\n",
       "      <td>4.350206</td>\n",
       "    </tr>\n",
       "    <tr>\n",
       "      <td>23</td>\n",
       "      <td>52</td>\n",
       "      <td>257.994390</td>\n",
       "      <td>-77.896003</td>\n",
       "      <td>6067.787252</td>\n",
       "      <td>257.469018</td>\n",
       "      <td>0.525372</td>\n",
       "      <td>0.276016</td>\n",
       "    </tr>\n",
       "    <tr>\n",
       "      <td>24</td>\n",
       "      <td>50</td>\n",
       "      <td>246.678764</td>\n",
       "      <td>-89.211629</td>\n",
       "      <td>7958.714713</td>\n",
       "      <td>247.583971</td>\n",
       "      <td>-0.905207</td>\n",
       "      <td>0.819399</td>\n",
       "    </tr>\n",
       "    <tr>\n",
       "      <td>25</td>\n",
       "      <td>25</td>\n",
       "      <td>124.172658</td>\n",
       "      <td>-211.717735</td>\n",
       "      <td>44824.399229</td>\n",
       "      <td>124.020880</td>\n",
       "      <td>0.151778</td>\n",
       "      <td>0.023037</td>\n",
       "    </tr>\n",
       "    <tr>\n",
       "      <td>26</td>\n",
       "      <td>22</td>\n",
       "      <td>108.466152</td>\n",
       "      <td>-227.424241</td>\n",
       "      <td>51721.785303</td>\n",
       "      <td>109.193309</td>\n",
       "      <td>-0.727157</td>\n",
       "      <td>0.528758</td>\n",
       "    </tr>\n",
       "    <tr>\n",
       "      <td>27</td>\n",
       "      <td>20</td>\n",
       "      <td>99.240793</td>\n",
       "      <td>-236.649600</td>\n",
       "      <td>56003.033086</td>\n",
       "      <td>99.308262</td>\n",
       "      <td>-0.067469</td>\n",
       "      <td>0.004552</td>\n",
       "    </tr>\n",
       "    <tr>\n",
       "      <td>28</td>\n",
       "      <td>5</td>\n",
       "      <td>24.885511</td>\n",
       "      <td>-311.004882</td>\n",
       "      <td>96724.036503</td>\n",
       "      <td>25.170408</td>\n",
       "      <td>-0.284897</td>\n",
       "      <td>0.081166</td>\n",
       "    </tr>\n",
       "    <tr>\n",
       "      <td>29</td>\n",
       "      <td>1</td>\n",
       "      <td>4.972409</td>\n",
       "      <td>-330.917984</td>\n",
       "      <td>109506.712002</td>\n",
       "      <td>5.400313</td>\n",
       "      <td>-0.427904</td>\n",
       "      <td>0.183102</td>\n",
       "    </tr>\n",
       "  </tbody>\n",
       "</table>\n",
       "</div>"
      ],
      "text/plain": [
       "      x           y     y-y_avg    (y-y_avg)^2         y_c     y-y_c  \\\n",
       "15  200  986.396415  650.506022  423158.084918  988.962515 -2.566100   \n",
       "16  110  540.958072  205.067679   42052.753052  544.135388 -3.177316   \n",
       "17  105  522.940227  187.049834   34987.640474  519.422770  3.517457   \n",
       "18  102  503.360041  167.469648   28046.083068  504.595199 -1.235158   \n",
       "19  101  503.787756  167.897363   28189.524570  499.652676  4.135080   \n",
       "20  100  499.026431  163.136038   26613.366960  494.710152  4.316279   \n",
       "21   70  345.265399    9.375006      87.890741  346.434443 -1.169044   \n",
       "22   55  270.210874  -65.679519    4313.799190  272.296589 -2.085715   \n",
       "23   52  257.994390  -77.896003    6067.787252  257.469018  0.525372   \n",
       "24   50  246.678764  -89.211629    7958.714713  247.583971 -0.905207   \n",
       "25   25  124.172658 -211.717735   44824.399229  124.020880  0.151778   \n",
       "26   22  108.466152 -227.424241   51721.785303  109.193309 -0.727157   \n",
       "27   20   99.240793 -236.649600   56003.033086   99.308262 -0.067469   \n",
       "28    5   24.885511 -311.004882   96724.036503   25.170408 -0.284897   \n",
       "29    1    4.972409 -330.917984  109506.712002    5.400313 -0.427904   \n",
       "\n",
       "    (y-y_c)^2  \n",
       "15   6.584867  \n",
       "16  10.095338  \n",
       "17  12.372503  \n",
       "18   1.525616  \n",
       "19  17.098890  \n",
       "20  18.630265  \n",
       "21   1.366664  \n",
       "22   4.350206  \n",
       "23   0.276016  \n",
       "24   0.819399  \n",
       "25   0.023037  \n",
       "26   0.528758  \n",
       "27   0.004552  \n",
       "28   0.081166  \n",
       "29   0.183102  "
      ]
     },
     "execution_count": 26,
     "metadata": {},
     "output_type": "execute_result"
    }
   ],
   "source": [
    "cor_dec = pd.DataFrame(balance['mass_g'][15:]) # Creating new Dataframe for calculations, mass values are imported as x\n",
    "\n",
    "cor_dec = cor_dec.rename(columns = {'mass_g':'x'}) # Renaming the column as x\n",
    "\n",
    "cor_dec['y'] = balance['voltage_mv'][15:] # Voltage values are imported as y\n",
    "\n",
    "cor_dec['y-y_avg'] = cor_dec['y']-np.mean(cor_dec['y']) # Differences between y values and avarage y\n",
    "\n",
    "cor_dec['(y-y_avg)^2'] = cor_dec['y-y_avg']**2 # Squares of the differences\n",
    "\n",
    "cor_dec['y_c'] = a_dec*cor_dec['x'] + b_dec # Calculating y values using the calibration equation\n",
    "\n",
    "cor_dec['y-y_c'] = cor_dec['y']-cor_dec['y_c'] # Differences between y values and calculated y values\n",
    "\n",
    "cor_dec['(y-y_c)^2'] = cor_dec['y-y_c']**2 # Squares of the differences\n",
    "\n",
    "cor_dec"
   ]
  },
  {
   "cell_type": "code",
   "execution_count": 27,
   "metadata": {},
   "outputs": [],
   "source": [
    "cor_dec.to_excel('cor_dec.xlsx') # Writing data in excel format for the report"
   ]
  },
  {
   "cell_type": "markdown",
   "metadata": {},
   "source": [
    "### Calculating $\\sigma_y$, $\\sigma_{y,x}$ and $R$ (Correlation Coefficent) for decreasing weights"
   ]
  },
  {
   "cell_type": "markdown",
   "metadata": {},
   "source": [
    "### $\\sigma_y = (\\frac{\\sum_{i=1}^{n} (y_i-y_{avg})^2}{n-1})^{1/2}$"
   ]
  },
  {
   "cell_type": "markdown",
   "metadata": {},
   "source": [
    "### $\\sigma_{y,x}= (\\frac{\\sum_{i=1}^{n} (y_i-y_{calc})^2}{n-2})^{1/2}$"
   ]
  },
  {
   "cell_type": "markdown",
   "metadata": {},
   "source": [
    "### $R = (1-\\frac{(\\sigma_{y,x})^2}{(\\sigma_y)^2})^{1/2}$"
   ]
  },
  {
   "cell_type": "code",
   "execution_count": 28,
   "metadata": {
    "scrolled": true
   },
   "outputs": [
    {
     "data": {
      "text/plain": [
       "261.896328"
      ]
     },
     "execution_count": 28,
     "metadata": {},
     "output_type": "execute_result"
    }
   ],
   "source": [
    "y_std_dec = ((np.sum(cor_dec['(y-y_avg)^2']))/(15-1))**(1/2)\n",
    "round(y_std_dec,6)"
   ]
  },
  {
   "cell_type": "markdown",
   "metadata": {},
   "source": [
    "$\\sigma_y = 261.896328$ "
   ]
  },
  {
   "cell_type": "code",
   "execution_count": 29,
   "metadata": {
    "scrolled": true
   },
   "outputs": [
    {
     "data": {
      "text/plain": [
       "2.384894"
      ]
     },
     "execution_count": 29,
     "metadata": {},
     "output_type": "execute_result"
    }
   ],
   "source": [
    "yx_std_dec = ((np.sum(cor_dec['(y-y_c)^2']))/(15-2))**(1/2)\n",
    "round(yx_std_dec,6)"
   ]
  },
  {
   "cell_type": "markdown",
   "metadata": {},
   "source": [
    "$\\sigma_{y,x} = 2.384894$"
   ]
  },
  {
   "cell_type": "code",
   "execution_count": 30,
   "metadata": {
    "scrolled": true
   },
   "outputs": [
    {
     "data": {
      "text/plain": [
       "0.999959"
      ]
     },
     "execution_count": 30,
     "metadata": {},
     "output_type": "execute_result"
    }
   ],
   "source": [
    "r_dec = (1-(yx_std_dec)**2/(y_std_dec)**2)**(1/2)\n",
    "round(r_dec,6)"
   ]
  },
  {
   "cell_type": "markdown",
   "metadata": {},
   "source": [
    "$R = 0.999959$"
   ]
  }
 ],
 "metadata": {
  "kernelspec": {
   "display_name": "Python 3",
   "language": "python",
   "name": "python3"
  },
  "language_info": {
   "codemirror_mode": {
    "name": "ipython",
    "version": 3
   },
   "file_extension": ".py",
   "mimetype": "text/x-python",
   "name": "python",
   "nbconvert_exporter": "python",
   "pygments_lexer": "ipython3",
   "version": "3.7.4"
  }
 },
 "nbformat": 4,
 "nbformat_minor": 2
}
