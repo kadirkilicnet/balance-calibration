{
 "cells": [
  {
   "cell_type": "markdown",
   "metadata": {},
   "source": [
    "# Spring Mass Calibration"
   ]
  },
  {
   "cell_type": "markdown",
   "metadata": {},
   "source": [
    "###### Objectives of the Experiment: "
   ]
  },
  {
   "cell_type": "markdown",
   "metadata": {},
   "source": [
    "Understanding the working principle of spring mass system,\n",
    "experimenting the hysteresis effect, method of least squares and calibration."
   ]
  },
  {
   "cell_type": "code",
   "execution_count": 1,
   "metadata": {},
   "outputs": [],
   "source": [
    "import pandas as pd\n",
    "import matplotlib.pyplot as plt\n",
    "from scipy import signal\n",
    "import numpy as np\n",
    "import math"
   ]
  },
  {
   "cell_type": "markdown",
   "metadata": {},
   "source": [
    "### The Example of Period Detection"
   ]
  },
  {
   "cell_type": "code",
   "execution_count": 2,
   "metadata": {},
   "outputs": [
    {
     "data": {
      "text/html": [
       "<div>\n",
       "<style scoped>\n",
       "    .dataframe tbody tr th:only-of-type {\n",
       "        vertical-align: middle;\n",
       "    }\n",
       "\n",
       "    .dataframe tbody tr th {\n",
       "        vertical-align: top;\n",
       "    }\n",
       "\n",
       "    .dataframe thead th {\n",
       "        text-align: right;\n",
       "    }\n",
       "</style>\n",
       "<table border=\"1\" class=\"dataframe\">\n",
       "  <thead>\n",
       "    <tr style=\"text-align: right;\">\n",
       "      <th></th>\n",
       "      <th>Time (s)</th>\n",
       "      <th>Acceleration x (m/s^2)</th>\n",
       "      <th>Acceleration y (m/s^2)</th>\n",
       "      <th>Acceleration z (m/s^2)</th>\n",
       "    </tr>\n",
       "  </thead>\n",
       "  <tbody>\n",
       "    <tr>\n",
       "      <td>0</td>\n",
       "      <td>0.000000</td>\n",
       "      <td>0.168407</td>\n",
       "      <td>-0.169823</td>\n",
       "      <td>-0.028083</td>\n",
       "    </tr>\n",
       "    <tr>\n",
       "      <td>1</td>\n",
       "      <td>0.029992</td>\n",
       "      <td>0.192031</td>\n",
       "      <td>-0.155867</td>\n",
       "      <td>0.071152</td>\n",
       "    </tr>\n",
       "    <tr>\n",
       "      <td>2</td>\n",
       "      <td>0.059984</td>\n",
       "      <td>0.217640</td>\n",
       "      <td>-0.143643</td>\n",
       "      <td>0.164289</td>\n",
       "    </tr>\n",
       "    <tr>\n",
       "      <td>3</td>\n",
       "      <td>0.089977</td>\n",
       "      <td>0.241904</td>\n",
       "      <td>-0.133441</td>\n",
       "      <td>0.248289</td>\n",
       "    </tr>\n",
       "    <tr>\n",
       "      <td>4</td>\n",
       "      <td>0.119969</td>\n",
       "      <td>0.260029</td>\n",
       "      <td>-0.125589</td>\n",
       "      <td>0.318374</td>\n",
       "    </tr>\n",
       "    <tr>\n",
       "      <td>...</td>\n",
       "      <td>...</td>\n",
       "      <td>...</td>\n",
       "      <td>...</td>\n",
       "      <td>...</td>\n",
       "    </tr>\n",
       "    <tr>\n",
       "      <td>263</td>\n",
       "      <td>7.402366</td>\n",
       "      <td>-0.121755</td>\n",
       "      <td>-0.263425</td>\n",
       "      <td>0.142874</td>\n",
       "    </tr>\n",
       "    <tr>\n",
       "      <td>264</td>\n",
       "      <td>7.422427</td>\n",
       "      <td>-0.022974</td>\n",
       "      <td>-0.235087</td>\n",
       "      <td>0.265282</td>\n",
       "    </tr>\n",
       "    <tr>\n",
       "      <td>265</td>\n",
       "      <td>7.442489</td>\n",
       "      <td>0.078413</td>\n",
       "      <td>-0.010712</td>\n",
       "      <td>0.385757</td>\n",
       "    </tr>\n",
       "    <tr>\n",
       "      <td>266</td>\n",
       "      <td>7.462551</td>\n",
       "      <td>-0.202572</td>\n",
       "      <td>0.342666</td>\n",
       "      <td>-0.025831</td>\n",
       "    </tr>\n",
       "    <tr>\n",
       "      <td>267</td>\n",
       "      <td>7.482613</td>\n",
       "      <td>-0.431597</td>\n",
       "      <td>0.166889</td>\n",
       "      <td>-0.490800</td>\n",
       "    </tr>\n",
       "  </tbody>\n",
       "</table>\n",
       "<p>268 rows × 4 columns</p>\n",
       "</div>"
      ],
      "text/plain": [
       "     Time (s)  Acceleration x (m/s^2)  Acceleration y (m/s^2)  \\\n",
       "0    0.000000                0.168407               -0.169823   \n",
       "1    0.029992                0.192031               -0.155867   \n",
       "2    0.059984                0.217640               -0.143643   \n",
       "3    0.089977                0.241904               -0.133441   \n",
       "4    0.119969                0.260029               -0.125589   \n",
       "..        ...                     ...                     ...   \n",
       "263  7.402366               -0.121755               -0.263425   \n",
       "264  7.422427               -0.022974               -0.235087   \n",
       "265  7.442489                0.078413               -0.010712   \n",
       "266  7.462551               -0.202572                0.342666   \n",
       "267  7.482613               -0.431597                0.166889   \n",
       "\n",
       "     Acceleration z (m/s^2)  \n",
       "0                 -0.028083  \n",
       "1                  0.071152  \n",
       "2                  0.164289  \n",
       "3                  0.248289  \n",
       "4                  0.318374  \n",
       "..                      ...  \n",
       "263                0.142874  \n",
       "264                0.265282  \n",
       "265                0.385757  \n",
       "266               -0.025831  \n",
       "267               -0.490800  \n",
       "\n",
       "[268 rows x 4 columns]"
      ]
     },
     "execution_count": 2,
     "metadata": {},
     "output_type": "execute_result"
    }
   ],
   "source": [
    "one = pd.read_csv('data2/5.csv')\n",
    "one"
   ]
  },
  {
   "cell_type": "code",
   "execution_count": 3,
   "metadata": {},
   "outputs": [
    {
     "data": {
      "text/plain": [
       "Text(0, 0.5, 'Y Acceleration')"
      ]
     },
     "execution_count": 3,
     "metadata": {},
     "output_type": "execute_result"
    },
    {
     "data": {
      "image/png": "[encoded data removed]",
      "text/plain": [
       "<Figure size 432x288 with 1 Axes>"
      ]
     },
     "metadata": {
      "needs_background": "light"
     },
     "output_type": "display_data"
    }
   ],
   "source": [
    "x_1 = one['Acceleration y (m/s^2)']\n",
    "peaks_one, _ = signal.find_peaks(x_1, height=0.25)\n",
    "plt.plot(x_1)\n",
    "plt.plot(peaks_one, x_1[peaks_one], \"x\")\n",
    "plt.xlabel('Data Point', fontsize=12)\n",
    "plt.ylabel('Y Acceleration' ,fontsize=12)"
   ]
  },
  {
   "cell_type": "code",
   "execution_count": 4,
   "metadata": {},
   "outputs": [
    {
     "data": {
      "text/plain": [
       "array([ 69,  75, 105, 130, 155, 178, 266], dtype=int64)"
      ]
     },
     "execution_count": 4,
     "metadata": {},
     "output_type": "execute_result"
    }
   ],
   "source": [
    "peaks_one"
   ]
  },
  {
   "cell_type": "code",
   "execution_count": 5,
   "metadata": {
    "scrolled": true
   },
   "outputs": [
    {
     "data": {
      "text/plain": [
       "0.75"
      ]
     },
     "execution_count": 5,
     "metadata": {},
     "output_type": "execute_result"
    }
   ],
   "source": [
    "round(one['Time (s)'].iloc[105]-one['Time (s)'].iloc[75],2)"
   ]
  },
  {
   "cell_type": "code",
   "execution_count": 6,
   "metadata": {
    "scrolled": true
   },
   "outputs": [
    {
     "data": {
      "text/plain": [
       "0.75"
      ]
     },
     "execution_count": 6,
     "metadata": {},
     "output_type": "execute_result"
    }
   ],
   "source": [
    "round(one['Time (s)'].iloc[130]-one['Time (s)'].iloc[105],2)"
   ]
  },
  {
   "cell_type": "markdown",
   "metadata": {},
   "source": [
    "### Mass - Period Data"
   ]
  },
  {
   "cell_type": "code",
   "execution_count": 7,
   "metadata": {
    "scrolled": false
   },
   "outputs": [
    {
     "data": {
      "text/html": [
       "<div>\n",
       "<style scoped>\n",
       "    .dataframe tbody tr th:only-of-type {\n",
       "        vertical-align: middle;\n",
       "    }\n",
       "\n",
       "    .dataframe tbody tr th {\n",
       "        vertical-align: top;\n",
       "    }\n",
       "\n",
       "    .dataframe thead th {\n",
       "        text-align: right;\n",
       "    }\n",
       "</style>\n",
       "<table border=\"1\" class=\"dataframe\">\n",
       "  <thead>\n",
       "    <tr style=\"text-align: right;\">\n",
       "      <th></th>\n",
       "      <th>attempt</th>\n",
       "      <th>mass_kg</th>\n",
       "      <th>period_s</th>\n",
       "    </tr>\n",
       "  </thead>\n",
       "  <tbody>\n",
       "    <tr>\n",
       "      <td>0</td>\n",
       "      <td>1</td>\n",
       "      <td>0.212</td>\n",
       "      <td>0.75</td>\n",
       "    </tr>\n",
       "    <tr>\n",
       "      <td>1</td>\n",
       "      <td>2</td>\n",
       "      <td>0.232</td>\n",
       "      <td>0.78</td>\n",
       "    </tr>\n",
       "    <tr>\n",
       "      <td>2</td>\n",
       "      <td>3</td>\n",
       "      <td>0.262</td>\n",
       "      <td>0.83</td>\n",
       "    </tr>\n",
       "    <tr>\n",
       "      <td>3</td>\n",
       "      <td>4</td>\n",
       "      <td>0.302</td>\n",
       "      <td>0.89</td>\n",
       "    </tr>\n",
       "    <tr>\n",
       "      <td>4</td>\n",
       "      <td>5</td>\n",
       "      <td>0.352</td>\n",
       "      <td>0.96</td>\n",
       "    </tr>\n",
       "    <tr>\n",
       "      <td>5</td>\n",
       "      <td>6</td>\n",
       "      <td>0.402</td>\n",
       "      <td>1.10</td>\n",
       "    </tr>\n",
       "    <tr>\n",
       "      <td>6</td>\n",
       "      <td>7</td>\n",
       "      <td>0.402</td>\n",
       "      <td>1.10</td>\n",
       "    </tr>\n",
       "    <tr>\n",
       "      <td>7</td>\n",
       "      <td>8</td>\n",
       "      <td>0.352</td>\n",
       "      <td>0.97</td>\n",
       "    </tr>\n",
       "    <tr>\n",
       "      <td>8</td>\n",
       "      <td>9</td>\n",
       "      <td>0.302</td>\n",
       "      <td>0.89</td>\n",
       "    </tr>\n",
       "    <tr>\n",
       "      <td>9</td>\n",
       "      <td>10</td>\n",
       "      <td>0.262</td>\n",
       "      <td>0.84</td>\n",
       "    </tr>\n",
       "    <tr>\n",
       "      <td>10</td>\n",
       "      <td>11</td>\n",
       "      <td>0.232</td>\n",
       "      <td>0.79</td>\n",
       "    </tr>\n",
       "    <tr>\n",
       "      <td>11</td>\n",
       "      <td>12</td>\n",
       "      <td>0.212</td>\n",
       "      <td>0.76</td>\n",
       "    </tr>\n",
       "  </tbody>\n",
       "</table>\n",
       "</div>"
      ],
      "text/plain": [
       "    attempt  mass_kg  period_s\n",
       "0         1    0.212      0.75\n",
       "1         2    0.232      0.78\n",
       "2         3    0.262      0.83\n",
       "3         4    0.302      0.89\n",
       "4         5    0.352      0.96\n",
       "5         6    0.402      1.10\n",
       "6         7    0.402      1.10\n",
       "7         8    0.352      0.97\n",
       "8         9    0.302      0.89\n",
       "9        10    0.262      0.84\n",
       "10       11    0.232      0.79\n",
       "11       12    0.212      0.76"
      ]
     },
     "execution_count": 7,
     "metadata": {},
     "output_type": "execute_result"
    }
   ],
   "source": [
    "balance = pd.read_excel('period_mass.xlsx')\n",
    "balance"
   ]
  },
  {
   "cell_type": "markdown",
   "metadata": {},
   "source": [
    "### Unknown Mass"
   ]
  },
  {
   "cell_type": "code",
   "execution_count": 8,
   "metadata": {},
   "outputs": [],
   "source": [
    "unknown_mass = 1.04"
   ]
  },
  {
   "cell_type": "markdown",
   "metadata": {},
   "source": [
    "### Mass vs Period Graph"
   ]
  },
  {
   "cell_type": "code",
   "execution_count": 9,
   "metadata": {
    "scrolled": false
   },
   "outputs": [
    {
     "data": {
      "text/plain": [
       "<matplotlib.legend.Legend at 0x20fae910188>"
      ]
     },
     "execution_count": 9,
     "metadata": {},
     "output_type": "execute_result"
    },
    {
     "data": {
      "image/png": "[encoded data removed]",
      "text/plain": [
       "<Figure size 432x288 with 1 Axes>"
      ]
     },
     "metadata": {
      "needs_background": "light"
     },
     "output_type": "display_data"
    }
   ],
   "source": [
    "plt.plot(balance['mass_kg'][:6], balance['period_s'][:6],'o', label='increasing weights')\n",
    "plt.plot(balance['mass_kg'][6:], balance['period_s'][6:],'o',label='decreasing weights')\n",
    "\n",
    "plt.xlabel('Mass (kg)', fontsize=12)\n",
    "plt.ylabel('Period (s)', fontsize=12)\n",
    "plt.title('Mass (kg) vs Period (s) Graph', fontsize=16)\n",
    "plt.grid(True)\n",
    "plt.legend()"
   ]
  },
  {
   "cell_type": "markdown",
   "metadata": {},
   "source": [
    "## Calculations of calibration equation (for increasing weights)"
   ]
  },
  {
   "cell_type": "markdown",
   "metadata": {},
   "source": [
    "### $a_1 = \\frac{n\\sum{x_iy_i}-\\sum{x_i}\\sum{y_i}}{n\\sum{(x_i)^2}-(\\sum{x_i})^2}$"
   ]
  },
  {
   "cell_type": "markdown",
   "metadata": {},
   "source": [
    "### $b_1 = \\frac{(\\sum{y_i})(\\sum{x_i})^2-(\\sum{x_iy_i})(\\sum{x_i})}{n\\sum{(x_i)^2}-(\\sum{x_i})^2}$"
   ]
  },
  {
   "cell_type": "code",
   "execution_count": 10,
   "metadata": {},
   "outputs": [
    {
     "data": {
      "text/html": [
       "<div>\n",
       "<style scoped>\n",
       "    .dataframe tbody tr th:only-of-type {\n",
       "        vertical-align: middle;\n",
       "    }\n",
       "\n",
       "    .dataframe tbody tr th {\n",
       "        vertical-align: top;\n",
       "    }\n",
       "\n",
       "    .dataframe thead th {\n",
       "        text-align: right;\n",
       "    }\n",
       "</style>\n",
       "<table border=\"1\" class=\"dataframe\">\n",
       "  <thead>\n",
       "    <tr style=\"text-align: right;\">\n",
       "      <th></th>\n",
       "      <th>x</th>\n",
       "      <th>y</th>\n",
       "      <th>x*y</th>\n",
       "      <th>x^2</th>\n",
       "    </tr>\n",
       "  </thead>\n",
       "  <tbody>\n",
       "    <tr>\n",
       "      <td>0</td>\n",
       "      <td>0.212</td>\n",
       "      <td>0.75</td>\n",
       "      <td>0.15900</td>\n",
       "      <td>0.044944</td>\n",
       "    </tr>\n",
       "    <tr>\n",
       "      <td>1</td>\n",
       "      <td>0.232</td>\n",
       "      <td>0.78</td>\n",
       "      <td>0.18096</td>\n",
       "      <td>0.053824</td>\n",
       "    </tr>\n",
       "    <tr>\n",
       "      <td>2</td>\n",
       "      <td>0.262</td>\n",
       "      <td>0.83</td>\n",
       "      <td>0.21746</td>\n",
       "      <td>0.068644</td>\n",
       "    </tr>\n",
       "    <tr>\n",
       "      <td>3</td>\n",
       "      <td>0.302</td>\n",
       "      <td>0.89</td>\n",
       "      <td>0.26878</td>\n",
       "      <td>0.091204</td>\n",
       "    </tr>\n",
       "    <tr>\n",
       "      <td>4</td>\n",
       "      <td>0.352</td>\n",
       "      <td>0.96</td>\n",
       "      <td>0.33792</td>\n",
       "      <td>0.123904</td>\n",
       "    </tr>\n",
       "    <tr>\n",
       "      <td>5</td>\n",
       "      <td>0.402</td>\n",
       "      <td>1.10</td>\n",
       "      <td>0.44220</td>\n",
       "      <td>0.161604</td>\n",
       "    </tr>\n",
       "  </tbody>\n",
       "</table>\n",
       "</div>"
      ],
      "text/plain": [
       "       x     y      x*y       x^2\n",
       "0  0.212  0.75  0.15900  0.044944\n",
       "1  0.232  0.78  0.18096  0.053824\n",
       "2  0.262  0.83  0.21746  0.068644\n",
       "3  0.302  0.89  0.26878  0.091204\n",
       "4  0.352  0.96  0.33792  0.123904\n",
       "5  0.402  1.10  0.44220  0.161604"
      ]
     },
     "execution_count": 10,
     "metadata": {},
     "output_type": "execute_result"
    }
   ],
   "source": [
    "clb_inc = pd.DataFrame(balance['mass_kg'][:6]) # Creating new Dataframe for calculations, mass values are imported as x\n",
    "\n",
    "clb_inc = clb_inc.rename(columns = {'mass_kg':'x'}) # Renaming the column as x\n",
    "\n",
    "clb_inc['y'] = balance['period_s'][:6] # Period values are imported as y\n",
    "\n",
    "clb_inc['x*y'] = clb_inc['x']*clb_inc['y'] # Calculating x*y\n",
    "\n",
    "clb_inc['x^2'] = clb_inc['x']**2 # Calculating x^2\n",
    "\n",
    "clb_inc"
   ]
  },
  {
   "cell_type": "code",
   "execution_count": 11,
   "metadata": {},
   "outputs": [],
   "source": [
    "clb_inc.to_excel('clb_inc.xlsx') # Writing data in excel format for the report"
   ]
  },
  {
   "cell_type": "markdown",
   "metadata": {},
   "source": [
    "### Coefficients of the linear calibration equation (y = ax + b) For increasing weights"
   ]
  },
  {
   "cell_type": "code",
   "execution_count": 12,
   "metadata": {},
   "outputs": [],
   "source": [
    "n=6 # Number of samples"
   ]
  },
  {
   "cell_type": "code",
   "execution_count": 13,
   "metadata": {},
   "outputs": [],
   "source": [
    "a_inc = ((n*np.sum(clb_inc['x*y'])-np.sum(clb_inc['x'])*np.sum(clb_inc['y']))\n",
    "         /(n*np.sum(clb_inc['x^2'])-(np.sum(clb_inc['x']))**2)) # The slope of the curve\n",
    "\n",
    "b_inc = ((np.sum(clb_inc['y'])*np.sum(clb_inc['x^2'])-np.sum(clb_inc['x*y'])*np.sum(clb_inc['x']))\n",
    "         /(n*np.sum(clb_inc['x^2'])-np.sum(clb_inc['x'])**2)) # Interception point on the y-axis"
   ]
  },
  {
   "cell_type": "code",
   "execution_count": 14,
   "metadata": {
    "scrolled": true
   },
   "outputs": [
    {
     "data": {
      "text/plain": [
       "1.759525"
      ]
     },
     "execution_count": 14,
     "metadata": {},
     "output_type": "execute_result"
    }
   ],
   "source": [
    "round(a_inc,6)"
   ]
  },
  {
   "cell_type": "code",
   "execution_count": 15,
   "metadata": {},
   "outputs": [
    {
     "data": {
      "text/plain": [
       "0.368286"
      ]
     },
     "execution_count": 15,
     "metadata": {},
     "output_type": "execute_result"
    }
   ],
   "source": [
    "round(b_inc, 6)"
   ]
  },
  {
   "cell_type": "markdown",
   "metadata": {},
   "source": [
    "###  $y = 1.759525x+0.368286$"
   ]
  },
  {
   "cell_type": "code",
   "execution_count": 16,
   "metadata": {},
   "outputs": [
    {
     "data": {
      "text/plain": [
       "<matplotlib.legend.Legend at 0x20faeb711c8>"
      ]
     },
     "execution_count": 16,
     "metadata": {},
     "output_type": "execute_result"
    },
    {
     "data": {
      "image/png": "[encoded data removed]",
      "text/plain": [
       "<Figure size 432x288 with 1 Axes>"
      ]
     },
     "metadata": {
      "needs_background": "light"
     },
     "output_type": "display_data"
    }
   ],
   "source": [
    "plt.plot(balance['mass_kg'][:6], balance['period_s'][:6],'o')\n",
    "plt.plot(clb_inc['x'], a_inc*clb_inc['x'] + b_inc, label='$1.759525x+0.368286$')\n",
    "plt.xlabel('Mass (kg)', fontsize= 12)\n",
    "plt.ylabel('Period (s)', fontsize= 12)\n",
    "plt.legend()"
   ]
  },
  {
   "cell_type": "code",
   "execution_count": 17,
   "metadata": {
    "scrolled": true
   },
   "outputs": [
    {
     "data": {
      "text/plain": [
       "0.381759"
      ]
     },
     "execution_count": 17,
     "metadata": {},
     "output_type": "execute_result"
    }
   ],
   "source": [
    "mass_inc = (unknown_mass - b_inc) / a_inc # Calculating the unknown mass using the given period output\n",
    "round(mass_inc,6)"
   ]
  },
  {
   "cell_type": "markdown",
   "metadata": {},
   "source": [
    "## Calculations of calibration equation (for decreasing weights)"
   ]
  },
  {
   "cell_type": "code",
   "execution_count": 18,
   "metadata": {
    "scrolled": false
   },
   "outputs": [
    {
     "data": {
      "text/html": [
       "<div>\n",
       "<style scoped>\n",
       "    .dataframe tbody tr th:only-of-type {\n",
       "        vertical-align: middle;\n",
       "    }\n",
       "\n",
       "    .dataframe tbody tr th {\n",
       "        vertical-align: top;\n",
       "    }\n",
       "\n",
       "    .dataframe thead th {\n",
       "        text-align: right;\n",
       "    }\n",
       "</style>\n",
       "<table border=\"1\" class=\"dataframe\">\n",
       "  <thead>\n",
       "    <tr style=\"text-align: right;\">\n",
       "      <th></th>\n",
       "      <th>x</th>\n",
       "      <th>y</th>\n",
       "      <th>x*y</th>\n",
       "      <th>x^2</th>\n",
       "    </tr>\n",
       "  </thead>\n",
       "  <tbody>\n",
       "    <tr>\n",
       "      <td>6</td>\n",
       "      <td>0.402</td>\n",
       "      <td>1.10</td>\n",
       "      <td>0.44220</td>\n",
       "      <td>0.161604</td>\n",
       "    </tr>\n",
       "    <tr>\n",
       "      <td>7</td>\n",
       "      <td>0.352</td>\n",
       "      <td>0.97</td>\n",
       "      <td>0.34144</td>\n",
       "      <td>0.123904</td>\n",
       "    </tr>\n",
       "    <tr>\n",
       "      <td>8</td>\n",
       "      <td>0.302</td>\n",
       "      <td>0.89</td>\n",
       "      <td>0.26878</td>\n",
       "      <td>0.091204</td>\n",
       "    </tr>\n",
       "    <tr>\n",
       "      <td>9</td>\n",
       "      <td>0.262</td>\n",
       "      <td>0.84</td>\n",
       "      <td>0.22008</td>\n",
       "      <td>0.068644</td>\n",
       "    </tr>\n",
       "    <tr>\n",
       "      <td>10</td>\n",
       "      <td>0.232</td>\n",
       "      <td>0.79</td>\n",
       "      <td>0.18328</td>\n",
       "      <td>0.053824</td>\n",
       "    </tr>\n",
       "    <tr>\n",
       "      <td>11</td>\n",
       "      <td>0.212</td>\n",
       "      <td>0.76</td>\n",
       "      <td>0.16112</td>\n",
       "      <td>0.044944</td>\n",
       "    </tr>\n",
       "  </tbody>\n",
       "</table>\n",
       "</div>"
      ],
      "text/plain": [
       "        x     y      x*y       x^2\n",
       "6   0.402  1.10  0.44220  0.161604\n",
       "7   0.352  0.97  0.34144  0.123904\n",
       "8   0.302  0.89  0.26878  0.091204\n",
       "9   0.262  0.84  0.22008  0.068644\n",
       "10  0.232  0.79  0.18328  0.053824\n",
       "11  0.212  0.76  0.16112  0.044944"
      ]
     },
     "execution_count": 18,
     "metadata": {},
     "output_type": "execute_result"
    }
   ],
   "source": [
    "clb_dec = pd.DataFrame(balance['mass_kg'][6:]) # Creating new Dataframe for calculations, mass values are imported as x\n",
    "\n",
    "clb_dec = clb_dec.rename(columns = {'mass_kg':'x'}) # Renaming the column as x\n",
    "\n",
    "clb_dec['y'] = balance['period_s'][6:] # Period values are imported as y\n",
    "\n",
    "clb_dec['x*y'] = clb_dec['x']*clb_dec['y'] # Calculating x*y\n",
    "\n",
    "clb_dec['x^2'] = clb_dec['x']**2 # Calculating x^2\n",
    "\n",
    "clb_dec"
   ]
  },
  {
   "cell_type": "code",
   "execution_count": 19,
   "metadata": {},
   "outputs": [],
   "source": [
    "clb_dec.to_excel('clb_dec.xlsx') # Writing data in excel format for the report"
   ]
  },
  {
   "cell_type": "markdown",
   "metadata": {},
   "source": [
    "### Coefficients of the linear calibration equation (y = ax + b) For decreasing weights"
   ]
  },
  {
   "cell_type": "markdown",
   "metadata": {},
   "source": [
    "### $a_2 = \\frac{n\\sum{x_iy_i}-\\sum{x_i}\\sum{y_i}}{n\\sum{(x_i)^2}-(\\sum{x_i})^2}$"
   ]
  },
  {
   "cell_type": "markdown",
   "metadata": {},
   "source": [
    "### $b_2 = \\frac{(\\sum{y_i})(\\sum{x_i})^2-(\\sum{x_iy_i})(\\sum{x_i})}{n\\sum{(x_i)^2}-(\\sum{x_i})^2}$"
   ]
  },
  {
   "cell_type": "code",
   "execution_count": 20,
   "metadata": {},
   "outputs": [],
   "source": [
    "a_dec = ((n*np.sum(clb_dec['x*y'])-np.sum(clb_dec['x'])*np.sum(clb_dec['y']))\n",
    "         /(n*np.sum(clb_dec['x^2'])-(np.sum(clb_dec['x']))**2)) # The slope of the curve\n",
    "\n",
    "b_dec = ((np.sum(clb_dec['y'])*np.sum(clb_dec['x^2'])-np.sum(clb_dec['x*y'])*np.sum(clb_dec['x']))\n",
    "         /(n*np.sum(clb_dec['x^2'])-np.sum(clb_dec['x'])**2)) # Interception point on the y-axis"
   ]
  },
  {
   "cell_type": "code",
   "execution_count": 21,
   "metadata": {
    "scrolled": true
   },
   "outputs": [
    {
     "data": {
      "text/plain": [
       "1.715803"
      ]
     },
     "execution_count": 21,
     "metadata": {},
     "output_type": "execute_result"
    }
   ],
   "source": [
    "round(a_dec,6)"
   ]
  },
  {
   "cell_type": "code",
   "execution_count": 22,
   "metadata": {
    "scrolled": true
   },
   "outputs": [
    {
     "data": {
      "text/plain": [
       "0.387793"
      ]
     },
     "execution_count": 22,
     "metadata": {},
     "output_type": "execute_result"
    }
   ],
   "source": [
    "round(b_dec, 6)"
   ]
  },
  {
   "cell_type": "markdown",
   "metadata": {},
   "source": [
    "### $y =1.715803x + 0.387793$"
   ]
  },
  {
   "cell_type": "code",
   "execution_count": 23,
   "metadata": {},
   "outputs": [
    {
     "data": {
      "text/plain": [
       "<matplotlib.legend.Legend at 0x20faec7c608>"
      ]
     },
     "execution_count": 23,
     "metadata": {},
     "output_type": "execute_result"
    },
    {
     "data": {
      "image/png": "[encoded data removed]",
      "text/plain": [
       "<Figure size 432x288 with 1 Axes>"
      ]
     },
     "metadata": {
      "needs_background": "light"
     },
     "output_type": "display_data"
    }
   ],
   "source": [
    "plt.plot(balance['mass_kg'][6:], balance['period_s'][6:],'o')\n",
    "plt.plot(clb_dec['x'], a_dec*clb_dec['x'] + b_dec, label='$y=1.715803𝑥+0.387793$')\n",
    "plt.xlabel('Mass (kg)', fontsize= 12)\n",
    "plt.ylabel('Period (s)', fontsize= 12)\n",
    "plt.legend()"
   ]
  },
  {
   "cell_type": "code",
   "execution_count": 24,
   "metadata": {},
   "outputs": [
    {
     "data": {
      "text/plain": [
       "0.380118"
      ]
     },
     "execution_count": 24,
     "metadata": {},
     "output_type": "execute_result"
    }
   ],
   "source": [
    "mass_dec = (unknown_mass - b_dec) / a_dec # Calculating the unknown mass using the given period output\n",
    "round(mass_dec,6)"
   ]
  },
  {
   "cell_type": "markdown",
   "metadata": {},
   "source": [
    "## Calculations for correlation coefficient (For increasing weights)"
   ]
  },
  {
   "cell_type": "code",
   "execution_count": 25,
   "metadata": {
    "scrolled": true
   },
   "outputs": [
    {
     "data": {
      "text/html": [
       "<div>\n",
       "<style scoped>\n",
       "    .dataframe tbody tr th:only-of-type {\n",
       "        vertical-align: middle;\n",
       "    }\n",
       "\n",
       "    .dataframe tbody tr th {\n",
       "        vertical-align: top;\n",
       "    }\n",
       "\n",
       "    .dataframe thead th {\n",
       "        text-align: right;\n",
       "    }\n",
       "</style>\n",
       "<table border=\"1\" class=\"dataframe\">\n",
       "  <thead>\n",
       "    <tr style=\"text-align: right;\">\n",
       "      <th></th>\n",
       "      <th>x</th>\n",
       "      <th>y</th>\n",
       "      <th>y-y_avg</th>\n",
       "      <th>(y-y_avg)^2</th>\n",
       "      <th>y_c</th>\n",
       "      <th>y-y_c</th>\n",
       "      <th>(y-y_c)^2</th>\n",
       "    </tr>\n",
       "  </thead>\n",
       "  <tbody>\n",
       "    <tr>\n",
       "      <td>0</td>\n",
       "      <td>0.212</td>\n",
       "      <td>0.75</td>\n",
       "      <td>-0.135</td>\n",
       "      <td>0.018225</td>\n",
       "      <td>0.741305</td>\n",
       "      <td>0.008695</td>\n",
       "      <td>7.559548e-05</td>\n",
       "    </tr>\n",
       "    <tr>\n",
       "      <td>1</td>\n",
       "      <td>0.232</td>\n",
       "      <td>0.78</td>\n",
       "      <td>-0.105</td>\n",
       "      <td>0.011025</td>\n",
       "      <td>0.776496</td>\n",
       "      <td>0.003504</td>\n",
       "      <td>1.227844e-05</td>\n",
       "    </tr>\n",
       "    <tr>\n",
       "      <td>2</td>\n",
       "      <td>0.262</td>\n",
       "      <td>0.83</td>\n",
       "      <td>-0.055</td>\n",
       "      <td>0.003025</td>\n",
       "      <td>0.829282</td>\n",
       "      <td>0.000718</td>\n",
       "      <td>5.159564e-07</td>\n",
       "    </tr>\n",
       "    <tr>\n",
       "      <td>3</td>\n",
       "      <td>0.302</td>\n",
       "      <td>0.89</td>\n",
       "      <td>0.005</td>\n",
       "      <td>0.000025</td>\n",
       "      <td>0.899663</td>\n",
       "      <td>-0.009663</td>\n",
       "      <td>9.336798e-05</td>\n",
       "    </tr>\n",
       "    <tr>\n",
       "      <td>4</td>\n",
       "      <td>0.352</td>\n",
       "      <td>0.96</td>\n",
       "      <td>0.075</td>\n",
       "      <td>0.005625</td>\n",
       "      <td>0.987639</td>\n",
       "      <td>-0.027639</td>\n",
       "      <td>7.639130e-04</td>\n",
       "    </tr>\n",
       "    <tr>\n",
       "      <td>5</td>\n",
       "      <td>0.402</td>\n",
       "      <td>1.10</td>\n",
       "      <td>0.215</td>\n",
       "      <td>0.046225</td>\n",
       "      <td>1.075615</td>\n",
       "      <td>0.024385</td>\n",
       "      <td>5.946165e-04</td>\n",
       "    </tr>\n",
       "  </tbody>\n",
       "</table>\n",
       "</div>"
      ],
      "text/plain": [
       "       x     y  y-y_avg  (y-y_avg)^2       y_c     y-y_c     (y-y_c)^2\n",
       "0  0.212  0.75   -0.135     0.018225  0.741305  0.008695  7.559548e-05\n",
       "1  0.232  0.78   -0.105     0.011025  0.776496  0.003504  1.227844e-05\n",
       "2  0.262  0.83   -0.055     0.003025  0.829282  0.000718  5.159564e-07\n",
       "3  0.302  0.89    0.005     0.000025  0.899663 -0.009663  9.336798e-05\n",
       "4  0.352  0.96    0.075     0.005625  0.987639 -0.027639  7.639130e-04\n",
       "5  0.402  1.10    0.215     0.046225  1.075615  0.024385  5.946165e-04"
      ]
     },
     "execution_count": 25,
     "metadata": {},
     "output_type": "execute_result"
    }
   ],
   "source": [
    "cor_inc = pd.DataFrame(balance['mass_kg'][:6]) # Creating new Dataframe for calculations, mass values are imported as x\n",
    "\n",
    "cor_inc = cor_inc.rename(columns = {'mass_kg':'x'}) # Renaming the column as x\n",
    "\n",
    "cor_inc['y'] = balance['period_s'][:6] # Period values are imported as y\n",
    "\n",
    "cor_inc['y-y_avg'] = cor_inc['y']-np.mean(cor_inc['y']) # Differences between y values and avarage y\n",
    "\n",
    "cor_inc['(y-y_avg)^2'] = cor_inc['y-y_avg']**2 # Squares of the differences\n",
    "\n",
    "cor_inc['y_c'] = a_inc*cor_inc['x'] + b_inc # Calculating y values using the calibration equation\n",
    "\n",
    "cor_inc['y-y_c'] = cor_inc['y']-cor_inc['y_c'] # Differences between y values and calculated y values\n",
    "\n",
    "cor_inc['(y-y_c)^2'] = cor_inc['y-y_c']**2 # Squares of the differences\n",
    "\n",
    "cor_inc"
   ]
  },
  {
   "cell_type": "code",
   "execution_count": 26,
   "metadata": {},
   "outputs": [],
   "source": [
    "cor_inc.to_excel('cor_inc.xlsx') # Writing data in excel format for the report"
   ]
  },
  {
   "cell_type": "markdown",
   "metadata": {},
   "source": [
    "### Calculating $\\sigma_y$, $\\sigma_{y,x}$ and $R$ (Correlation Coefficent) for increasing weights"
   ]
  },
  {
   "cell_type": "markdown",
   "metadata": {},
   "source": [
    "### $\\sigma_y = (\\frac{\\sum_{i=1}^{n} (y_i-y_{avg})^2}{n-1})^{1/2}$"
   ]
  },
  {
   "cell_type": "markdown",
   "metadata": {},
   "source": [
    "### $\\sigma_{y,x}= (\\frac{\\sum_{i=1}^{n} (y_i-y_{calc})^2}{n-2})^{1/2}$"
   ]
  },
  {
   "cell_type": "markdown",
   "metadata": {},
   "source": [
    "### $R = (1-\\frac{(\\sigma_{y,x})^2}{(\\sigma_y)^2})^{1/2}$"
   ]
  },
  {
   "cell_type": "markdown",
   "metadata": {},
   "source": [
    "$\\sigma_y$"
   ]
  },
  {
   "cell_type": "code",
   "execution_count": 27,
   "metadata": {},
   "outputs": [
    {
     "data": {
      "text/plain": [
       "0.12973"
      ]
     },
     "execution_count": 27,
     "metadata": {},
     "output_type": "execute_result"
    }
   ],
   "source": [
    "y_std_inc = ((np.sum(cor_inc['(y-y_avg)^2']))/(n-1))**(1/2)\n",
    "round(y_std_inc,6)"
   ]
  },
  {
   "cell_type": "markdown",
   "metadata": {},
   "source": [
    "$\\sigma_{y,x}$"
   ]
  },
  {
   "cell_type": "code",
   "execution_count": 28,
   "metadata": {
    "scrolled": true
   },
   "outputs": [
    {
     "data": {
      "text/plain": [
       "0.019623"
      ]
     },
     "execution_count": 28,
     "metadata": {},
     "output_type": "execute_result"
    }
   ],
   "source": [
    "yx_std_inc = ((np.sum(cor_inc['(y-y_c)^2']))/(n-2))**(1/2)\n",
    "round(yx_std_inc,6)"
   ]
  },
  {
   "cell_type": "markdown",
   "metadata": {},
   "source": [
    "$R$"
   ]
  },
  {
   "cell_type": "code",
   "execution_count": 29,
   "metadata": {},
   "outputs": [
    {
     "data": {
      "text/plain": [
       "0.988494"
      ]
     },
     "execution_count": 29,
     "metadata": {},
     "output_type": "execute_result"
    }
   ],
   "source": [
    "r_inc = (1-(yx_std_inc)**2/(y_std_inc)**2)**(1/2)\n",
    "round(r_inc,6)"
   ]
  },
  {
   "cell_type": "markdown",
   "metadata": {},
   "source": [
    "## Calculations for correlation coefficient (For decreasing weights)"
   ]
  },
  {
   "cell_type": "code",
   "execution_count": 30,
   "metadata": {},
   "outputs": [
    {
     "data": {
      "text/html": [
       "<div>\n",
       "<style scoped>\n",
       "    .dataframe tbody tr th:only-of-type {\n",
       "        vertical-align: middle;\n",
       "    }\n",
       "\n",
       "    .dataframe tbody tr th {\n",
       "        vertical-align: top;\n",
       "    }\n",
       "\n",
       "    .dataframe thead th {\n",
       "        text-align: right;\n",
       "    }\n",
       "</style>\n",
       "<table border=\"1\" class=\"dataframe\">\n",
       "  <thead>\n",
       "    <tr style=\"text-align: right;\">\n",
       "      <th></th>\n",
       "      <th>x</th>\n",
       "      <th>y</th>\n",
       "      <th>y-y_avg</th>\n",
       "      <th>(y-y_avg)^2</th>\n",
       "      <th>y_c</th>\n",
       "      <th>y-y_c</th>\n",
       "      <th>(y-y_c)^2</th>\n",
       "    </tr>\n",
       "  </thead>\n",
       "  <tbody>\n",
       "    <tr>\n",
       "      <td>6</td>\n",
       "      <td>0.402</td>\n",
       "      <td>1.10</td>\n",
       "      <td>0.208333</td>\n",
       "      <td>0.043403</td>\n",
       "      <td>1.077545</td>\n",
       "      <td>0.022455</td>\n",
       "      <td>0.000504</td>\n",
       "    </tr>\n",
       "    <tr>\n",
       "      <td>7</td>\n",
       "      <td>0.352</td>\n",
       "      <td>0.97</td>\n",
       "      <td>0.078333</td>\n",
       "      <td>0.006136</td>\n",
       "      <td>0.991755</td>\n",
       "      <td>-0.021755</td>\n",
       "      <td>0.000473</td>\n",
       "    </tr>\n",
       "    <tr>\n",
       "      <td>8</td>\n",
       "      <td>0.302</td>\n",
       "      <td>0.89</td>\n",
       "      <td>-0.001667</td>\n",
       "      <td>0.000003</td>\n",
       "      <td>0.905965</td>\n",
       "      <td>-0.015965</td>\n",
       "      <td>0.000255</td>\n",
       "    </tr>\n",
       "    <tr>\n",
       "      <td>9</td>\n",
       "      <td>0.262</td>\n",
       "      <td>0.84</td>\n",
       "      <td>-0.051667</td>\n",
       "      <td>0.002669</td>\n",
       "      <td>0.837333</td>\n",
       "      <td>0.002667</td>\n",
       "      <td>0.000007</td>\n",
       "    </tr>\n",
       "    <tr>\n",
       "      <td>10</td>\n",
       "      <td>0.232</td>\n",
       "      <td>0.79</td>\n",
       "      <td>-0.101667</td>\n",
       "      <td>0.010336</td>\n",
       "      <td>0.785859</td>\n",
       "      <td>0.004141</td>\n",
       "      <td>0.000017</td>\n",
       "    </tr>\n",
       "    <tr>\n",
       "      <td>11</td>\n",
       "      <td>0.212</td>\n",
       "      <td>0.76</td>\n",
       "      <td>-0.131667</td>\n",
       "      <td>0.017336</td>\n",
       "      <td>0.751543</td>\n",
       "      <td>0.008457</td>\n",
       "      <td>0.000072</td>\n",
       "    </tr>\n",
       "  </tbody>\n",
       "</table>\n",
       "</div>"
      ],
      "text/plain": [
       "        x     y   y-y_avg  (y-y_avg)^2       y_c     y-y_c  (y-y_c)^2\n",
       "6   0.402  1.10  0.208333     0.043403  1.077545  0.022455   0.000504\n",
       "7   0.352  0.97  0.078333     0.006136  0.991755 -0.021755   0.000473\n",
       "8   0.302  0.89 -0.001667     0.000003  0.905965 -0.015965   0.000255\n",
       "9   0.262  0.84 -0.051667     0.002669  0.837333  0.002667   0.000007\n",
       "10  0.232  0.79 -0.101667     0.010336  0.785859  0.004141   0.000017\n",
       "11  0.212  0.76 -0.131667     0.017336  0.751543  0.008457   0.000072"
      ]
     },
     "execution_count": 30,
     "metadata": {},
     "output_type": "execute_result"
    }
   ],
   "source": [
    "cor_dec = pd.DataFrame(balance['mass_kg'][6:]) # Creating new Dataframe for calculations, mass values are imported as x\n",
    "\n",
    "cor_dec = cor_dec.rename(columns = {'mass_kg':'x'}) # Renaming the column as x\n",
    "\n",
    "cor_dec['y'] = balance['period_s'][6:] # Period values are imported as y\n",
    "\n",
    "cor_dec['y-y_avg'] = cor_dec['y']-np.mean(cor_dec['y']) # Differences between y values and avarage y\n",
    "\n",
    "cor_dec['(y-y_avg)^2'] = cor_dec['y-y_avg']**2 # Squares of the differences\n",
    "\n",
    "cor_dec['y_c'] = a_dec*cor_dec['x'] + b_dec # Calculating y values using the calibration equation\n",
    "\n",
    "cor_dec['y-y_c'] = cor_dec['y']-cor_dec['y_c'] # Differences between y values and calculated y values\n",
    "\n",
    "cor_dec['(y-y_c)^2'] = cor_dec['y-y_c']**2 # Squares of the differences\n",
    "\n",
    "cor_dec"
   ]
  },
  {
   "cell_type": "code",
   "execution_count": 31,
   "metadata": {},
   "outputs": [],
   "source": [
    "cor_dec.to_excel('cor_dec.xlsx') # Writing data in excel format for the report"
   ]
  },
  {
   "cell_type": "markdown",
   "metadata": {},
   "source": [
    "### Calculating $\\sigma_y$, $\\sigma_{y,x}$ and $R$ (Correlation Coefficent) for decreasing weights"
   ]
  },
  {
   "cell_type": "markdown",
   "metadata": {},
   "source": [
    "### $\\sigma_y = (\\frac{\\sum_{i=1}^{n} (y_i-y_{avg})^2}{n-1})^{1/2}$"
   ]
  },
  {
   "cell_type": "markdown",
   "metadata": {},
   "source": [
    "### $\\sigma_{y,x}= (\\frac{\\sum_{i=1}^{n} (y_i-y_{calc})^2}{n-2})^{1/2}$"
   ]
  },
  {
   "cell_type": "markdown",
   "metadata": {},
   "source": [
    "### $R = (1-\\frac{(\\sigma_{y,x})^2}{(\\sigma_y)^2})^{1/2}$"
   ]
  },
  {
   "cell_type": "markdown",
   "metadata": {},
   "source": [
    "$\\sigma_y$"
   ]
  },
  {
   "cell_type": "code",
   "execution_count": 32,
   "metadata": {
    "scrolled": true
   },
   "outputs": [
    {
     "data": {
      "text/plain": [
       "0.126399"
      ]
     },
     "execution_count": 32,
     "metadata": {},
     "output_type": "execute_result"
    }
   ],
   "source": [
    "y_std_dec = ((np.sum(cor_dec['(y-y_avg)^2']))/(n-1))**(1/2)\n",
    "round(y_std_dec,6)"
   ]
  },
  {
   "cell_type": "markdown",
   "metadata": {},
   "source": [
    "$\\sigma_{y,x}$"
   ]
  },
  {
   "cell_type": "code",
   "execution_count": 33,
   "metadata": {},
   "outputs": [
    {
     "data": {
      "text/plain": [
       "0.018222"
      ]
     },
     "execution_count": 33,
     "metadata": {},
     "output_type": "execute_result"
    }
   ],
   "source": [
    "yx_std_dec = ((np.sum(cor_dec['(y-y_c)^2']))/(n-2))**(1/2)\n",
    "round(yx_std_dec,6)"
   ]
  },
  {
   "cell_type": "markdown",
   "metadata": {},
   "source": [
    "$R$"
   ]
  },
  {
   "cell_type": "code",
   "execution_count": 34,
   "metadata": {},
   "outputs": [
    {
     "data": {
      "text/plain": [
       "0.989554"
      ]
     },
     "execution_count": 34,
     "metadata": {},
     "output_type": "execute_result"
    }
   ],
   "source": [
    "r_dec = (1-(yx_std_dec)**2/(y_std_dec)**2)**(1/2)\n",
    "round(r_dec,6)"
   ]
  }
 ],
 "metadata": {
  "kernelspec": {
   "display_name": "Python 3",
   "language": "python",
   "name": "python3"
  },
  "language_info": {
   "codemirror_mode": {
    "name": "ipython",
    "version": 3
   },
   "file_extension": ".py",
   "mimetype": "text/x-python",
   "name": "python",
   "nbconvert_exporter": "python",
   "pygments_lexer": "ipython3",
   "version": "3.7.4"
  }
 },
 "nbformat": 4,
 "nbformat_minor": 2
}
